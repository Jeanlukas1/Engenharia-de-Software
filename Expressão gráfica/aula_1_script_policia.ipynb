{
 "cells": [
  {
   "cell_type": "markdown",
   "metadata": {},
   "source": [
    "### INICIO PANDAS"
   ]
  },
  {
   "cell_type": "code",
   "execution_count": 7,
   "metadata": {},
   "outputs": [],
   "source": [
    "import pandas as pd"
   ]
  },
  {
   "cell_type": "code",
   "execution_count": 11,
   "metadata": {},
   "outputs": [
    {
     "data": {
      "text/html": [
       "<div>\n",
       "<style scoped>\n",
       "    .dataframe tbody tr th:only-of-type {\n",
       "        vertical-align: middle;\n",
       "    }\n",
       "\n",
       "    .dataframe tbody tr th {\n",
       "        vertical-align: top;\n",
       "    }\n",
       "\n",
       "    .dataframe thead th {\n",
       "        text-align: right;\n",
       "    }\n",
       "</style>\n",
       "<table border=\"1\" class=\"dataframe\">\n",
       "  <thead>\n",
       "    <tr style=\"text-align: right;\">\n",
       "      <th></th>\n",
       "      <th>alunos</th>\n",
       "      <th>matéria</th>\n",
       "      <th>p1</th>\n",
       "      <th>p2</th>\n",
       "      <th>media</th>\n",
       "      <th>Resultado</th>\n",
       "    </tr>\n",
       "  </thead>\n",
       "  <tbody>\n",
       "    <tr>\n",
       "      <th>0</th>\n",
       "      <td>zé das cove</td>\n",
       "      <td>expressão gráfica</td>\n",
       "      <td>5.6</td>\n",
       "      <td>10.0</td>\n",
       "      <td>7.80</td>\n",
       "      <td>aprovado</td>\n",
       "    </tr>\n",
       "    <tr>\n",
       "      <th>1</th>\n",
       "      <td>zé das mangas</td>\n",
       "      <td>expressão gráfica</td>\n",
       "      <td>7.8</td>\n",
       "      <td>0.0</td>\n",
       "      <td>3.90</td>\n",
       "      <td>reprovado</td>\n",
       "    </tr>\n",
       "    <tr>\n",
       "      <th>2</th>\n",
       "      <td>zé pequeno</td>\n",
       "      <td>expressão gráfica</td>\n",
       "      <td>10.0</td>\n",
       "      <td>10.0</td>\n",
       "      <td>10.00</td>\n",
       "      <td>aprovado</td>\n",
       "    </tr>\n",
       "    <tr>\n",
       "      <th>3</th>\n",
       "      <td>zé das nuvens</td>\n",
       "      <td>expressão gráfica</td>\n",
       "      <td>8.8</td>\n",
       "      <td>6.5</td>\n",
       "      <td>7.65</td>\n",
       "      <td>aprovado</td>\n",
       "    </tr>\n",
       "  </tbody>\n",
       "</table>\n",
       "</div>"
      ],
      "text/plain": [
       "          alunos            matéria    p1    p2  media  Resultado\n",
       "0    zé das cove  expressão gráfica   5.6  10.0   7.80   aprovado\n",
       "1  zé das mangas  expressão gráfica   7.8   0.0   3.90  reprovado\n",
       "2     zé pequeno  expressão gráfica  10.0  10.0  10.00   aprovado\n",
       "3  zé das nuvens  expressão gráfica   8.8   6.5   7.65   aprovado"
      ]
     },
     "execution_count": 11,
     "metadata": {},
     "output_type": "execute_result"
    }
   ],
   "source": [
    "df = pd.DataFrame(\n",
    "    { \n",
    "     \"alunos\":[\"zé das cove\", \"zé das mangas\", \"zé pequeno\", \"zé das nuvens\"],\n",
    "     \"matéria\":[\"expressão gráfica\", \"expressão gráfica\", \"expressão gráfica\", \"expressão gráfica\"],\n",
    "     \"p1\":[5.6, 7.8, 10, 8.8],\n",
    "     \"p2\":[10, 0, 10, 6.5], \n",
    "    \n",
    "     }\n",
    ")\n",
    "\n",
    "df[\"media\"] = (df[\"p1\"] + df[\"p2\"]) / 2\n",
    "\n",
    "df.loc[df['media'] >= 7, 'Resultado'] = 'aprovado'\n",
    "df.loc[df['media'] < 7, 'Resultado'] = 'reprovado'\n",
    "\n",
    "df"
   ]
  },
  {
   "cell_type": "code",
   "execution_count": 52,
   "metadata": {},
   "outputs": [
    {
     "data": {
      "text/html": [
       "<div>\n",
       "<style scoped>\n",
       "    .dataframe tbody tr th:only-of-type {\n",
       "        vertical-align: middle;\n",
       "    }\n",
       "\n",
       "    .dataframe tbody tr th {\n",
       "        vertical-align: top;\n",
       "    }\n",
       "\n",
       "    .dataframe thead th {\n",
       "        text-align: right;\n",
       "    }\n",
       "</style>\n",
       "<table border=\"1\" class=\"dataframe\">\n",
       "  <thead>\n",
       "    <tr style=\"text-align: right;\">\n",
       "      <th></th>\n",
       "      <th>Superintendência Regional</th>\n",
       "      <th>Nome</th>\n",
       "      <th>Responsável</th>\n",
       "      <th>Telefone 1</th>\n",
       "      <th>Telefone 2</th>\n",
       "      <th>Telefone 3</th>\n",
       "      <th>Telefone 4</th>\n",
       "      <th>Endereço</th>\n",
       "      <th>Email</th>\n",
       "      <th>nome do servidor responsável pela edição</th>\n",
       "      <th>e-mail do servidor responsável pela edição</th>\n",
       "      <th>telefone do servidor responsável pela edição</th>\n",
       "    </tr>\n",
       "  </thead>\n",
       "  <tbody>\n",
       "    <tr>\n",
       "      <th>0</th>\n",
       "      <td>Acre</td>\n",
       "      <td>Superintendente</td>\n",
       "      <td>DPF Érico Batboza Alves</td>\n",
       "      <td>(0xx-68) 3212-1200</td>\n",
       "      <td>(0xx-68) 3212-1230</td>\n",
       "      <td>(0xx-68) 3212-1229</td>\n",
       "      <td>NaN</td>\n",
       "      <td>Rodovia BR 364, 3501 - Portal da Amazônia - Ri...</td>\n",
       "      <td>NaN</td>\n",
       "      <td>Michelly Santos de Sá</td>\n",
       "      <td>michelly.mss@pf.gov.br</td>\n",
       "      <td>(0xx-68) 3212-1214</td>\n",
       "    </tr>\n",
       "    <tr>\n",
       "      <th>1</th>\n",
       "      <td>NaN</td>\n",
       "      <td>Delegacia de Cruzeiro do Sul</td>\n",
       "      <td>DPF Fabrício Santos da Silva</td>\n",
       "      <td>(0xx-68) 3311-1200</td>\n",
       "      <td>NaN</td>\n",
       "      <td>NaN</td>\n",
       "      <td>NaN</td>\n",
       "      <td>Rua Minas Gerais, 350, Bairro do Alumínio, Cru...</td>\n",
       "      <td>NaN</td>\n",
       "      <td>Michelly Santos de Sá</td>\n",
       "      <td>michelly.mss@pf.gov.br</td>\n",
       "      <td>(0xx-68) 3212-1214</td>\n",
       "    </tr>\n",
       "    <tr>\n",
       "      <th>2</th>\n",
       "      <td>NaN</td>\n",
       "      <td>Delegacia de Epitaciolândia</td>\n",
       "      <td>DPF Antônio Francisco Carlota Pessoa</td>\n",
       "      <td>(0xx-68) 3546-5131</td>\n",
       "      <td>3546-3204</td>\n",
       "      <td>3546-4213</td>\n",
       "      <td>NaN</td>\n",
       "      <td>Av. Santos Dumont, 926 - Centro / CEP 69.934-000</td>\n",
       "      <td>NaN</td>\n",
       "      <td>Michelly Santos de Sá</td>\n",
       "      <td>michelly.mss@pf.gov.br</td>\n",
       "      <td>(0xx-68) 3212-1214</td>\n",
       "    </tr>\n",
       "    <tr>\n",
       "      <th>3</th>\n",
       "      <td>Alagoas</td>\n",
       "      <td>Superintendente</td>\n",
       "      <td>DPF Agnaldo Mendonça Alves</td>\n",
       "      <td>(0xx82) 3216-6729</td>\n",
       "      <td>Plantão: (0xx82) 3216-6767</td>\n",
       "      <td>NaN</td>\n",
       "      <td>NaN</td>\n",
       "      <td>Av. Walter Ananias, 705 - Jaraguá, Maceió - AL...</td>\n",
       "      <td>protocolo.selog.sral@pf.gov.br; gab;sral@pf.go...</td>\n",
       "      <td>Douglas Saldanha</td>\n",
       "      <td>douglas.dmfs@pf.gov.br</td>\n",
       "      <td>(82) 3216-6729</td>\n",
       "    </tr>\n",
       "    <tr>\n",
       "      <th>4</th>\n",
       "      <td>NaN</td>\n",
       "      <td>Aeroporto Internacional Zumbi dos Palmares - P...</td>\n",
       "      <td>NaN</td>\n",
       "      <td>(0xx82) 3322-2430</td>\n",
       "      <td>NaN</td>\n",
       "      <td>NaN</td>\n",
       "      <td>NaN</td>\n",
       "      <td>Rodovia BR, 104 Km 91 - Tabuleiro do Pinto, Ri...</td>\n",
       "      <td>delemig.drex.sral@pf.gov.br</td>\n",
       "      <td>Douglas Saldanha</td>\n",
       "      <td>douglas.dmfs@pf.gov.br</td>\n",
       "      <td>(82) 3216-6729</td>\n",
       "    </tr>\n",
       "  </tbody>\n",
       "</table>\n",
       "</div>"
      ],
      "text/plain": [
       "  Superintendência Regional  \\\n",
       "0                      Acre   \n",
       "1                       NaN   \n",
       "2                       NaN   \n",
       "3                   Alagoas   \n",
       "4                       NaN   \n",
       "\n",
       "                                               Nome   \\\n",
       "0                                    Superintendente   \n",
       "1                       Delegacia de Cruzeiro do Sul   \n",
       "2                        Delegacia de Epitaciolândia   \n",
       "3                                    Superintendente   \n",
       "4  Aeroporto Internacional Zumbi dos Palmares - P...   \n",
       "\n",
       "                            Responsável          Telefone 1  \\\n",
       "0               DPF Érico Batboza Alves  (0xx-68) 3212-1200   \n",
       "1          DPF Fabrício Santos da Silva  (0xx-68) 3311-1200   \n",
       "2  DPF Antônio Francisco Carlota Pessoa  (0xx-68) 3546-5131   \n",
       "3            DPF Agnaldo Mendonça Alves   (0xx82) 3216-6729   \n",
       "4                                   NaN   (0xx82) 3322-2430   \n",
       "\n",
       "                   Telefone 2          Telefone 3 Telefone 4  \\\n",
       "0          (0xx-68) 3212-1230  (0xx-68) 3212-1229        NaN   \n",
       "1                         NaN                 NaN        NaN   \n",
       "2                   3546-3204           3546-4213        NaN   \n",
       "3  Plantão: (0xx82) 3216-6767                 NaN        NaN   \n",
       "4                         NaN                 NaN        NaN   \n",
       "\n",
       "                                            Endereço  \\\n",
       "0  Rodovia BR 364, 3501 - Portal da Amazônia - Ri...   \n",
       "1  Rua Minas Gerais, 350, Bairro do Alumínio, Cru...   \n",
       "2   Av. Santos Dumont, 926 - Centro / CEP 69.934-000   \n",
       "3  Av. Walter Ananias, 705 - Jaraguá, Maceió - AL...   \n",
       "4  Rodovia BR, 104 Km 91 - Tabuleiro do Pinto, Ri...   \n",
       "\n",
       "                                               Email  \\\n",
       "0                                                NaN   \n",
       "1                                                NaN   \n",
       "2                                                NaN   \n",
       "3  protocolo.selog.sral@pf.gov.br; gab;sral@pf.go...   \n",
       "4                        delemig.drex.sral@pf.gov.br   \n",
       "\n",
       "  nome do servidor responsável pela edição  \\\n",
       "0                    Michelly Santos de Sá   \n",
       "1                    Michelly Santos de Sá   \n",
       "2                    Michelly Santos de Sá   \n",
       "3                         Douglas Saldanha   \n",
       "4                         Douglas Saldanha   \n",
       "\n",
       "  e-mail do servidor responsável pela edição  \\\n",
       "0                     michelly.mss@pf.gov.br   \n",
       "1                     michelly.mss@pf.gov.br   \n",
       "2                     michelly.mss@pf.gov.br   \n",
       "3                     douglas.dmfs@pf.gov.br   \n",
       "4                     douglas.dmfs@pf.gov.br   \n",
       "\n",
       "  telefone do servidor responsável pela edição  \n",
       "0                           (0xx-68) 3212-1214  \n",
       "1                           (0xx-68) 3212-1214  \n",
       "2                           (0xx-68) 3212-1214  \n",
       "3                               (82) 3216-6729  \n",
       "4                               (82) 3216-6729  "
      ]
     },
     "execution_count": 52,
     "metadata": {},
     "output_type": "execute_result"
    }
   ],
   "source": [
    "#carregando o DF\n",
    "df_pol = pd.read_excel(\n",
    "    r'C:\\Users\\UNIVASSOURAS\\OneDrive - Universidade de Vassouras\\EXPRESSÃO GRÁFICA\\UML\\postos-e-delegacias-da-pf-DESKTOP-1GLLO1R.xlsx'\n",
    ")\n",
    "#atribui uma lista\n",
    "list = ['REGIÃO NORTE', 'REGIÃO CENTRO-OESTE', 'REGIÃO SUDESTE', 'REGIÃO NORDESTE', 'REGIÃO SUL']\n",
    "\n",
    "#apresentando os 5 primeiros registros do DF\n",
    "df_pol.head()"
   ]
  },
  {
   "cell_type": "code",
   "execution_count": 44,
   "metadata": {},
   "outputs": [
    {
     "data": {
      "text/html": [
       "<div>\n",
       "<style scoped>\n",
       "    .dataframe tbody tr th:only-of-type {\n",
       "        vertical-align: middle;\n",
       "    }\n",
       "\n",
       "    .dataframe tbody tr th {\n",
       "        vertical-align: top;\n",
       "    }\n",
       "\n",
       "    .dataframe thead th {\n",
       "        text-align: right;\n",
       "    }\n",
       "</style>\n",
       "<table border=\"1\" class=\"dataframe\">\n",
       "  <thead>\n",
       "    <tr style=\"text-align: right;\">\n",
       "      <th></th>\n",
       "      <th>Nome</th>\n",
       "    </tr>\n",
       "  </thead>\n",
       "  <tbody>\n",
       "    <tr>\n",
       "      <th>Superintendente</th>\n",
       "      <td>29</td>\n",
       "    </tr>\n",
       "    <tr>\n",
       "      <th>Passaportes/Estrangeiros</th>\n",
       "      <td>6</td>\n",
       "    </tr>\n",
       "    <tr>\n",
       "      <th>Delegacia do Aeroporto Internacional de Cumbica - Guarulhos</th>\n",
       "      <td>1</td>\n",
       "    </tr>\n",
       "    <tr>\n",
       "      <th>Delegacia de Campos dos Goytacazes</th>\n",
       "      <td>1</td>\n",
       "    </tr>\n",
       "    <tr>\n",
       "      <th>Delegacia de Macaé</th>\n",
       "      <td>1</td>\n",
       "    </tr>\n",
       "  </tbody>\n",
       "</table>\n",
       "</div>"
      ],
      "text/plain": [
       "                                                    Nome \n",
       "Superintendente                                        29\n",
       "Passaportes/Estrangeiros                                6\n",
       "Delegacia do Aeroporto Internacional de Cumbica...      1\n",
       "Delegacia de Campos dos Goytacazes                      1\n",
       "Delegacia de Macaé                                      1"
      ]
     },
     "execution_count": 44,
     "metadata": {},
     "output_type": "execute_result"
    }
   ],
   "source": [
    "teste = pd.DataFrame(df_pol['Nome '].value_counts())\n",
    "teste.head()"
   ]
  },
  {
   "cell_type": "code",
   "execution_count": 45,
   "metadata": {},
   "outputs": [
    {
     "data": {
      "text/plain": [
       "Superintendência Regional                        34\n",
       "Nome                                            185\n",
       "Responsável                                     168\n",
       "Telefone 1                                      182\n",
       "Telefone 2                                       99\n",
       "Telefone 3                                       26\n",
       "Telefone 4                                       12\n",
       "Endereço                                        159\n",
       "Email                                            73\n",
       "nome do servidor responsável pela edição         19\n",
       "e-mail do servidor responsável pela edição       15\n",
       "telefone do servidor responsável pela edição     15\n",
       "dtype: int64"
      ]
     },
     "execution_count": 45,
     "metadata": {},
     "output_type": "execute_result"
    }
   ],
   "source": [
    "df_pol.notna().sum()"
   ]
  },
  {
   "cell_type": "code",
   "execution_count": 9,
   "metadata": {},
   "outputs": [
    {
     "data": {
      "text/plain": [
       "Index(['alunos', 'matéria', 'p1', 'p2', 'media', 'Resultado'], dtype='object')"
      ]
     },
     "execution_count": 9,
     "metadata": {},
     "output_type": "execute_result"
    }
   ],
   "source": [
    "df.columns"
   ]
  },
  {
   "cell_type": "code",
   "execution_count": 10,
   "metadata": {},
   "outputs": [
    {
     "data": {
      "text/plain": [
       "['alunos', 'matéria', 'p1', 'p2', 'media', 'Resultado']"
      ]
     },
     "execution_count": 10,
     "metadata": {},
     "output_type": "execute_result"
    }
   ],
   "source": [
    "list(df.columns)"
   ]
  }
 ],
 "metadata": {
  "kernelspec": {
   "display_name": "base",
   "language": "python",
   "name": "python3"
  },
  "language_info": {
   "codemirror_mode": {
    "name": "ipython",
    "version": 3
   },
   "file_extension": ".py",
   "mimetype": "text/x-python",
   "name": "python",
   "nbconvert_exporter": "python",
   "pygments_lexer": "ipython3",
   "version": "3.11.3"
  }
 },
 "nbformat": 4,
 "nbformat_minor": 2
}
