{
 "cells": [
  {
   "cell_type": "code",
   "execution_count": 8,
   "metadata": {},
   "outputs": [
    {
     "name": "stdout",
     "output_type": "stream",
     "text": [
      "True\n"
     ]
    }
   ],
   "source": [
    "def valor(a,b):\n",
    "    return a or b\n",
    "    \n",
    "a = bool(input(\"Digite o valor a: \"))\n",
    "b = bool(input(\"Digite o valor b: \"))\n",
    "resultado0 = valor(a,b)\n",
    "\n",
    "print(resultado0)"
   ]
  },
  {
   "cell_type": "code",
   "execution_count": 11,
   "metadata": {},
   "outputs": [
    {
     "name": "stdout",
     "output_type": "stream",
     "text": [
      "3.0\n"
     ]
    }
   ],
   "source": [
    "def area_triangulo():\n",
    "    return area_triangulo\n",
    "b = float(input(\"Digite a base do triangulo: \"))\n",
    "h = float(input(\"Digite a altura do triangulo: \"))\n",
    "\n",
    "resultado_1 = (b*h)/2\n",
    "\n",
    "print(resultado_1)"
   ]
  },
  {
   "cell_type": "code",
   "execution_count": 21,
   "metadata": {},
   "outputs": [
    {
     "name": "stdout",
     "output_type": "stream",
     "text": [
      "314.1592653589793\n"
     ]
    }
   ],
   "source": [
    "import  math\n",
    "def area_circulo (raio):\n",
    "    return math.pi * math.pow(raio, 2)\n",
    "\n",
    "resultado_2 = area_circulo(10)\n",
    "\n",
    "print(resultado_2)\n"
   ]
  },
  {
   "cell_type": "code",
   "execution_count": 14,
   "metadata": {},
   "outputs": [
    {
     "name": "stdout",
     "output_type": "stream",
     "text": [
      "25.0\n"
     ]
    }
   ],
   "source": [
    "def area_quadrado():\n",
    "    return area_quadrado\n",
    "b = float(input(\"Digite a base do triangulo: \"))\n",
    "\n",
    "resultado_3 = b*b\n",
    "\n",
    "print(resultado_3)"
   ]
  },
  {
   "cell_type": "code",
   "execution_count": 15,
   "metadata": {},
   "outputs": [
    {
     "name": "stdout",
     "output_type": "stream",
     "text": [
      "30.0\n"
     ]
    }
   ],
   "source": [
    "def area_trapezio(base_menor,base_maior,altura):\n",
    "    return ((base_menor + base_maior)* altura)/2\n",
    "\n",
    "resultado_4 = area_trapezio(5, 10, 4)\n",
    "print(resultado_4)"
   ]
  },
  {
   "cell_type": "code",
   "execution_count": 1,
   "metadata": {},
   "outputs": [
    {
     "name": "stdout",
     "output_type": "stream",
     "text": [
      "(2.0, 2.0)\n"
     ]
    }
   ],
   "source": [
    "#x^2 - 4x + 4 = 0, encontre as raízes\n",
    "import math \n",
    "def encontre_raizes (a,b,c):\n",
    "    delta =  math.pow(b,2) - 4 * a * c\n",
    "\n",
    "    if delta >= 0:\n",
    "        raiz_1 = (-b + math.sqrt(delta))/2*a\n",
    "        raiz_2 = (-b - math.sqrt(delta))/2*a\n",
    "        return raiz_1, raiz_2\n",
    "    \n",
    "    else:\n",
    "        return None\n",
    "\n",
    "resultado = encontre_raizes(1, -4, 4)\n",
    "print(resultado)"
   ]
  }
 ],
 "metadata": {
  "kernelspec": {
   "display_name": "base",
   "language": "python",
   "name": "python3"
  },
  "language_info": {
   "codemirror_mode": {
    "name": "ipython",
    "version": 3
   },
   "file_extension": ".py",
   "mimetype": "text/x-python",
   "name": "python",
   "nbconvert_exporter": "python",
   "pygments_lexer": "ipython3",
   "version": "3.12.4"
  }
 },
 "nbformat": 4,
 "nbformat_minor": 2
}
