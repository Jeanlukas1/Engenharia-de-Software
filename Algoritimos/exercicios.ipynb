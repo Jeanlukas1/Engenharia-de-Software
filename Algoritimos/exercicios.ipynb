{
 "cells": [
  {
   "cell_type": "code",
   "execution_count": 1,
   "metadata": {},
   "outputs": [
    {
     "name": "stdout",
     "output_type": "stream",
     "text": [
      "olá mundo\n"
     ]
    }
   ],
   "source": [
    "#1. Olá, Mundo! \n",
    "#Escreva um programa que imprime \"Olá, Mundo!\" na tela.\n",
    "\n",
    "def ola_mundo():\n",
    "    print('olá mundo')\n",
    "\n",
    "ola_mundo()"
   ]
  },
  {
   "cell_type": "code",
   "execution_count": 3,
   "metadata": {},
   "outputs": [
    {
     "name": "stdout",
     "output_type": "stream",
     "text": [
      "10\n"
     ]
    }
   ],
   "source": [
    "#2. Soma de Dois Números \n",
    "#Peça ao usuário para digitar dois números e imprima a soma deles.\n",
    "\n",
    "def numero():\n",
    "    numero_1 = float(input('Digite o primeiro numero: '))\n",
    "    numero_2 = float(input('Digite o segundo numero: '))\n",
    "    soma = numero_1 + numero_2\n",
    "    print(f'{soma:.0f}')\n",
    "\n",
    "numero()"
   ]
  },
  {
   "cell_type": "code",
   "execution_count": 4,
   "metadata": {},
   "outputs": [
    {
     "name": "stdout",
     "output_type": "stream",
     "text": [
      "O numero 5 é impar. \n"
     ]
    }
   ],
   "source": [
    "#3. Verificar Par ou Ímpar \n",
    "#Peça ao usuário para digitar um número inteiro e informe se o número é par ou ímpar.\n",
    "\n",
    "def par_impar():\n",
    "    numero = int(input('Digite um numero inteiro: '))\n",
    "    if numero % 2 == 0:\n",
    "        print(f'O numero {numero} é par. ')\n",
    "    else:\n",
    "        print(f'O numero {numero} é impar. ')\n",
    "\n",
    "par_impar()\n"
   ]
  },
  {
   "cell_type": "code",
   "execution_count": 20,
   "metadata": {},
   "outputs": [
    {
     "name": "stdout",
     "output_type": "stream",
     "text": [
      "A subtração do 5 - 9 = -4\n"
     ]
    }
   ],
   "source": [
    "#4. Calculadora Simples \n",
    "#Crie um programa que peça dois números e a operação desejada (+, -, *, /) e exiba o resultado.\n",
    "\n",
    "def calculadora():\n",
    "    numero_1 = float(input('Digite o numero: '))\n",
    "    operacao = input('Digite a operação desejada: (+, -, *, /) ')\n",
    "    numero_2 = float(input('Digite o numero: '))\n",
    "    \n",
    "    if operacao == '+':\n",
    "        soma = numero_1 + numero_2\n",
    "        print(f'A soma do {numero_1:.0f} + {numero_2:.0f} = {soma:.0f}')\n",
    "    if operacao == '-':\n",
    "        subtracao = numero_1 - numero_2\n",
    "        print(f'A subtração do {numero_1:.0f} - {numero_2:.0f} = {subtracao:.0f}')\n",
    "    if operacao == '*':\n",
    "        multiplicacao = numero_1 * numero_2\n",
    "        print(f'A multiplicação do {numero_1:.0f} * {numero_2:.0f} = {multiplicacao:.0f}')\n",
    "    if operacao == '/':\n",
    "        divisao = numero_1 / numero_2\n",
    "        print(f'A divisão do {numero_1:.0f} / {numero_2:.0f} = {divisao:.0f}')\n",
    "\n",
    "\n",
    "calculadora()"
   ]
  },
  {
   "cell_type": "code",
   "execution_count": 5,
   "metadata": {},
   "outputs": [
    {
     "name": "stdout",
     "output_type": "stream",
     "text": [
      "A media da 0.0 + 5.0 + 6.0 dividido por 3 foi de: 4\n"
     ]
    }
   ],
   "source": [
    "#5. Média de Notas \n",
    "#Peça ao usuário para digitar três notas e calcule a média delas.\n",
    "\n",
    "def notas(nota_1, nota_2, nota_3):\n",
    "    media = (nota_1 + nota_2 + nota_3) / 3\n",
    "    return media\n",
    "\n",
    "nota1 = float(input('Digite a nota 1: '))\n",
    "nota2 = float(input('Digite a nota 2: '))\n",
    "nota3 = float(input('Digite a nota 3: '))\n",
    "\n",
    "resultado = notas(nota1, nota2, nota3)\n",
    "print(f'A media da {nota1} + {nota2} + {nota3} dividido por 3 foi de: {resultado:.0f}')\n",
    "    \n"
   ]
  },
  {
   "cell_type": "code",
   "execution_count": 7,
   "metadata": {},
   "outputs": [
    {
     "name": "stdout",
     "output_type": "stream",
     "text": [
      "Grau Celsius = 50.0 -------  Grau Fahrenheit = 122 \n"
     ]
    }
   ],
   "source": [
    "#6. Converter Celsius para Fahrenheit \n",
    "#Escreva um programa que converta uma temperatura de graus Celsius para Fahrenheit.\n",
    "\n",
    "def conversor(celsius):\n",
    "    formula = (celsius * 9/5) + 32\n",
    "    return formula\n",
    "\n",
    "C = float(input('Digite o Grau a ser convertido em celsius:  °C'))\n",
    "\n",
    "resultado = conversor(C)\n",
    "print(f'Grau Celsius = {C} -------  Grau Fahrenheit = {resultado:.0f} ')"
   ]
  },
  {
   "cell_type": "code",
   "execution_count": 10,
   "metadata": {},
   "outputs": [
    {
     "name": "stdout",
     "output_type": "stream",
     "text": [
      "O fatorial de 5 é 120\n"
     ]
    }
   ],
   "source": [
    "#7. Fatorial de um Número \n",
    "#Peça ao usuário para digitar um número e calcule o fatorial desse número.\n",
    "\n",
    "import math\n",
    "\n",
    "def fac(numero):\n",
    "    resultado = math.factorial(numero)\n",
    "    return resultado\n",
    "\n",
    "numero = int(input('Digite um numero inteiro: '))\n",
    "calculo = fac(numero)\n",
    "print(\"O fatorial de\", numero, \"é\", calculo)\n",
    "\n"
   ]
  },
  {
   "cell_type": "code",
   "execution_count": 15,
   "metadata": {},
   "outputs": [
    {
     "name": "stdout",
     "output_type": "stream",
     "text": [
      "1 - Esse numero é impar!\n",
      "\n",
      "3 - Esse numero é impar!\n",
      "\n",
      "5 - Esse numero é impar!\n",
      "\n",
      "7 - Esse numero é impar!\n",
      "\n",
      "9 - Esse numero é impar!\n",
      "\n",
      "11 - Esse numero é impar!\n",
      "\n",
      "13 - Esse numero é impar!\n",
      "\n",
      "15 - Esse numero é impar!\n",
      "\n",
      "17 - Esse numero é impar!\n",
      "\n",
      "19 - Esse numero é impar!\n",
      "\n",
      "21 - Esse numero é impar!\n",
      "\n",
      "23 - Esse numero é impar!\n",
      "\n",
      "25 - Esse numero é impar!\n",
      "\n",
      "27 - Esse numero é impar!\n",
      "\n",
      "29 - Esse numero é impar!\n",
      "\n",
      "31 - Esse numero é impar!\n",
      "\n",
      "33 - Esse numero é impar!\n",
      "\n",
      "35 - Esse numero é impar!\n",
      "\n",
      "37 - Esse numero é impar!\n",
      "\n",
      "39 - Esse numero é impar!\n",
      "\n",
      "41 - Esse numero é impar!\n",
      "\n",
      "43 - Esse numero é impar!\n",
      "\n",
      "45 - Esse numero é impar!\n",
      "\n",
      "47 - Esse numero é impar!\n",
      "\n",
      "49 - Esse numero é impar!\n",
      "\n",
      "51 - Esse numero é impar!\n",
      "\n",
      "53 - Esse numero é impar!\n",
      "\n",
      "55 - Esse numero é impar!\n",
      "\n",
      "57 - Esse numero é impar!\n",
      "\n",
      "59 - Esse numero é impar!\n",
      "\n",
      "61 - Esse numero é impar!\n",
      "\n",
      "63 - Esse numero é impar!\n",
      "\n",
      "65 - Esse numero é impar!\n",
      "\n",
      "67 - Esse numero é impar!\n",
      "\n",
      "69 - Esse numero é impar!\n",
      "\n",
      "71 - Esse numero é impar!\n",
      "\n",
      "73 - Esse numero é impar!\n",
      "\n",
      "75 - Esse numero é impar!\n",
      "\n",
      "77 - Esse numero é impar!\n",
      "\n",
      "79 - Esse numero é impar!\n",
      "\n",
      "81 - Esse numero é impar!\n",
      "\n",
      "83 - Esse numero é impar!\n",
      "\n",
      "85 - Esse numero é impar!\n",
      "\n",
      "87 - Esse numero é impar!\n",
      "\n",
      "89 - Esse numero é impar!\n",
      "\n",
      "91 - Esse numero é impar!\n",
      "\n",
      "93 - Esse numero é impar!\n",
      "\n",
      "95 - Esse numero é impar!\n",
      "\n",
      "97 - Esse numero é impar!\n",
      "\n",
      "99 - Esse numero é impar!\n",
      "\n"
     ]
    }
   ],
   "source": [
    "#8. Contagem de Números Ímpares \n",
    "#Escreva um programa que conta e imprime todos os números ímpares entre 1 e 100.\n",
    "\n",
    "for i in range(1, 101):\n",
    "    if i % 2 != 0:\n",
    "        print(f'{i} - Esse numero é impar!')\n",
    "    else:\n",
    "        print()"
   ]
  },
  {
   "cell_type": "code",
   "execution_count": 37,
   "metadata": {},
   "outputs": [
    {
     "name": "stdout",
     "output_type": "stream",
     "text": [
      "2 é primo!\n"
     ]
    }
   ],
   "source": [
    "#9. Verificar Número Primo \n",
    "#Peça ao usuário para digitar um número e verifique se ele é primo.\n",
    "\n",
    "def numero(numero_primo):\n",
    "    if numero_primo % 3 != 0:\n",
    "        print(f'{numero_primo:.0f} é primo!')\n",
    "        \n",
    "    elif numero_primo % 5 != 0:\n",
    "        print(f'{numero_primo:.0f} é primo!')\n",
    "    \n",
    "    else:\n",
    "        print(f'{numero_primo} não é primo!')\n",
    "\n",
    "numero_primo = int(input('Digite um numero inteiro: '))\n",
    "\n",
    "resultado = numero(numero_primo)    "
   ]
  },
  {
   "cell_type": "code",
   "execution_count": 43,
   "metadata": {},
   "outputs": [
    {
     "name": "stdout",
     "output_type": "stream",
     "text": [
      "String invertida: sakul naej omahc em ,álo\n"
     ]
    }
   ],
   "source": [
    "#10. Inverter uma String \n",
    "#Peça ao usuário para digitar uma string e imprima essa string de forma invertida.\n",
    "\n",
    "def invert(entrada):\n",
    "    invertida = entrada[::-1]\n",
    "    return invertida\n",
    "\n",
    "entrada = input(\"Digite uma string: \")\n",
    "\n",
    "resul = invert(entrada)\n",
    "print(\"String invertida:\", resul)"
   ]
  },
  {
   "cell_type": "code",
   "execution_count": 44,
   "metadata": {},
   "outputs": [
    {
     "name": "stdout",
     "output_type": "stream",
     "text": [
      "Tabuada do 2:\n",
      "2 x 1 = 2\n",
      "2 x 2 = 4\n",
      "2 x 3 = 6\n",
      "2 x 4 = 8\n",
      "2 x 5 = 10\n",
      "2 x 6 = 12\n",
      "2 x 7 = 14\n",
      "2 x 8 = 16\n",
      "2 x 9 = 18\n",
      "2 x 10 = 20\n"
     ]
    }
   ],
   "source": [
    "#11. Tabuada \n",
    "#Peça ao usuário para digitar um número e imprima a tabuada desse número de 1 a 10.\n",
    "\n",
    "numero = int(input(\"Digite um número: \"))\n",
    "\n",
    "print(f\"Tabuada do {numero}:\")\n",
    "for i in range(1, 11):\n",
    "    print(f\"{numero} x {i} = {numero * i}\")\n",
    "\n"
   ]
  },
  {
   "cell_type": "code",
   "execution_count": 46,
   "metadata": {},
   "outputs": [
    {
     "name": "stdout",
     "output_type": "stream",
     "text": [
      "Número de vogais: 1\n"
     ]
    }
   ],
   "source": [
    "#12. Contar Vogais em uma String \n",
    "#Escreva um programa que conte o número de vogais em uma string fornecida pelo usuário.\n",
    "\n",
    "En = input(\"Digite uma string: \")\n",
    "\n",
    "vogais = \"aeiouAEIOU\"\n",
    "\n",
    "contador_vogais = 0\n",
    "\n",
    "for i in En:\n",
    "    if i in vogais:\n",
    "        contador_vogais += 1\n",
    "\n",
    "print(f\"Número de vogais: {contador_vogais}\")"
   ]
  },
  {
   "cell_type": "code",
   "execution_count": 50,
   "metadata": {},
   "outputs": [
    {
     "name": "stdout",
     "output_type": "stream",
     "text": [
      "27\n"
     ]
    }
   ],
   "source": [
    "#13. Soma dos Elementos de uma Lista \n",
    "#Crie uma lista de números e escreva um programa que some todos os elementos dessa lista.\n",
    "\n",
    "import math\n",
    "\n",
    "lista = [2, 3, 4, 5, 6, 7]\n",
    "\n",
    "soma = sum(lista)\n",
    "print(soma)"
   ]
  },
  {
   "cell_type": "code",
   "execution_count": 62,
   "metadata": {},
   "outputs": [
    {
     "name": "stdout",
     "output_type": "stream",
     "text": [
      "O maior número da lista é:23 \n"
     ]
    }
   ],
   "source": [
    "#14. Encontrar o Maior Número em uma Lista \n",
    "#Peça ao usuário para digitar uma lista de números e exiba o maior número dessa lista.\n",
    "\n",
    "en = input(\"Digite números separados por espaço: \")\n",
    "\n",
    "numeros = [int(num) for num in en.split()]\n",
    "\n",
    "maior_numero = max(numeros)\n",
    "\n",
    "print(f\"O maior número da lista é: {maior_numero} \", )"
   ]
  },
  {
   "cell_type": "code",
   "execution_count": 63,
   "metadata": {},
   "outputs": [
    {
     "name": "stdout",
     "output_type": "stream",
     "text": [
      "2\n",
      "4\n",
      "6\n",
      "8\n",
      "10\n"
     ]
    }
   ],
   "source": [
    "#15. Números Pares em uma Lista \n",
    "#Dada uma lista de números, crie um programa que exiba apenas os números pares.\n",
    "\n",
    "lista_numeros = [1, 2, 3, 4, 5, 6, 7, 8, 9, 10]\n",
    "\n",
    "for numero in lista_numeros:\n",
    "    if numero % 2 == 0:\n",
    "        print(numero)"
   ]
  },
  {
   "cell_type": "code",
   "execution_count": 68,
   "metadata": {},
   "outputs": [
    {
     "name": "stdout",
     "output_type": "stream",
     "text": [
      "10\n",
      "9\n",
      "8\n",
      "7\n",
      "6\n",
      "5\n",
      "4\n",
      "3\n",
      "2\n",
      "1\n",
      "0\n"
     ]
    }
   ],
   "source": [
    "#16. Contagem Regressiva \n",
    "#Escreva um programa que faça uma contagem regressiva de 10 a 0, imprimindo os números na tela.\n",
    "\n",
    "for i in range(10, -1, -1):\n",
    "    print(i)"
   ]
  },
  {
   "cell_type": "code",
   "execution_count": 67,
   "metadata": {},
   "outputs": [
    {
     "name": "stdout",
     "output_type": "stream",
     "text": [
      "0\n",
      "1\n",
      "1\n",
      "2\n",
      "3\n",
      "5\n",
      "8\n",
      "13\n",
      "21\n",
      "34\n"
     ]
    }
   ],
   "source": [
    "#17. Calculando a Sequência de Fibonacci \n",
    "#Escreva um programa que gera os primeiros 10 números da sequência de Fibonacci.\n",
    "\n",
    "n = 10\n",
    "\n",
    "a, b = 0, 1\n",
    "\n",
    "for _ in range(n):\n",
    "    print(a)\n",
    "    a, b = b, a + b"
   ]
  },
  {
   "cell_type": "code",
   "execution_count": 66,
   "metadata": {},
   "outputs": [
    {
     "name": "stdout",
     "output_type": "stream",
     "text": [
      "Resultado do lançamento da moeda: Coroa \n"
     ]
    }
   ],
   "source": [
    "#18. Simulação de Lançamento de Moeda \n",
    "#Crie um programa que simule o lançamento de uma moeda (cara ou coroa) e exiba o resultado.\n",
    "\n",
    "import random\n",
    "\n",
    "resultado = random.choice(['Cara', 'Coroa'])\n",
    "\n",
    "print(f'Resultado do lançamento da moeda: {resultado} ', )\n"
   ]
  },
  {
   "cell_type": "code",
   "execution_count": 65,
   "metadata": {},
   "outputs": [
    {
     "name": "stdout",
     "output_type": "stream",
     "text": [
      "A palavra não é um palíndromo.\n"
     ]
    }
   ],
   "source": [
    "#19. Verificar Palíndromo \n",
    "#Peça ao usuário para digitar uma palavra e verifique se ela é um palíndromo (lê-se da mesma forma de trás para frente).\n",
    "\n",
    "palavra = input(\"Digite uma palavra: \")\n",
    "\n",
    "if palavra == palavra[::-1]:\n",
    "    print(\"A palavra é um palíndromo.\")\n",
    "else:\n",
    "    print(\"A palavra não é um palíndromo.\")"
   ]
  },
  {
   "cell_type": "code",
   "execution_count": 64,
   "metadata": {},
   "outputs": [
    {
     "name": "stdout",
     "output_type": "stream",
     "text": [
      "O número é menor.\n",
      "O número é menor.\n",
      "O número é maior.\n",
      "O número é menor.\n",
      "O número é menor.\n",
      "O número é menor.\n",
      "O número é maior.\n",
      "O número é menor.\n",
      "O número é menor.\n",
      "Parabéns! Você acertou!\n"
     ]
    }
   ],
   "source": [
    "#20. Jogo de Adivinhação \n",
    "#Crie um programa onde o computador escolhe um número aleatório entre 1 e 100 e o usuário deve tentar adivinhar o número. \n",
    "# O programa deve dar dicas se o número escolhido é maior ou menor que a tentativa do usuário.\n",
    "\n",
    "\n",
    "import random\n",
    "\n",
    "numero_secreto = random.randint(1, 100)\n",
    "\n",
    "while True:\n",
    "    \n",
    "    tentativa = int(input(\"Adivinhe o número entre 1 e 100: \"))\n",
    "    \n",
    "    if tentativa < numero_secreto:\n",
    "        print(\"O número é maior.\")\n",
    "    elif tentativa > numero_secreto:\n",
    "        print(\"O número é menor.\")\n",
    "    else:\n",
    "        print(\"Parabéns! Você acertou!\")\n",
    "        break\n"
   ]
  }
 ],
 "metadata": {
  "kernelspec": {
   "display_name": "Python 3",
   "language": "python",
   "name": "python3"
  },
  "language_info": {
   "codemirror_mode": {
    "name": "ipython",
    "version": 3
   },
   "file_extension": ".py",
   "mimetype": "text/x-python",
   "name": "python",
   "nbconvert_exporter": "python",
   "pygments_lexer": "ipython3",
   "version": "3.11.7"
  }
 },
 "nbformat": 4,
 "nbformat_minor": 2
}
