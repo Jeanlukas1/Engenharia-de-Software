{
 "cells": [
  {
   "cell_type": "markdown",
   "metadata": {},
   "source": [
    "Aula 2 \n",
    "\n",
    "\n",
    "13/08/2024\n"
   ]
  },
  {
   "cell_type": "markdown",
   "metadata": {},
   "source": []
  },
  {
   "cell_type": "code",
   "execution_count": 21,
   "metadata": {},
   "outputs": [
    {
     "name": "stdout",
     "output_type": "stream",
     "text": [
      "29.0\n"
     ]
    }
   ],
   "source": [
    "import math\n",
    "\n",
    "n = 3\n",
    "soma = 0\n",
    "\n",
    "for i in range(1, n+1):\n",
    "    soma += math.pow((i+1),2)\n",
    "print(soma)    "
   ]
  },
  {
   "cell_type": "code",
   "execution_count": 24,
   "metadata": {},
   "outputs": [
    {
     "name": "stdout",
     "output_type": "stream",
     "text": [
      "29.0\n"
     ]
    }
   ],
   "source": [
    "import math\n",
    "def formula(n):\n",
    "    soma = 0\n",
    "    for i in range(1, n+1):\n",
    "        soma += math.pow((i+1),2)\n",
    "    return soma\n",
    "\n",
    "n = int(input('Digite o valor do numero final: (n)'))\n",
    "resultado = formula(n)\n",
    "print(resultado)"
   ]
  },
  {
   "cell_type": "code",
   "execution_count": 39,
   "metadata": {},
   "outputs": [
    {
     "name": "stdout",
     "output_type": "stream",
     "text": [
      "499.5\n"
     ]
    }
   ],
   "source": [
    "#crie uma lista com 1000 elementos calcule a media da lista\n",
    "#utilizando apenas funções.\n",
    "\n",
    "lista = []\n",
    "n = 1000\n",
    "for i in range(n):\n",
    "    lista.append(i)\n",
    "media = sum(lista)/len(lista)\n",
    "print(media)"
   ]
  }
 ],
 "metadata": {
  "kernelspec": {
   "display_name": "base",
   "language": "python",
   "name": "python3"
  },
  "language_info": {
   "codemirror_mode": {
    "name": "ipython",
    "version": 3
   },
   "file_extension": ".py",
   "mimetype": "text/x-python",
   "name": "python",
   "nbconvert_exporter": "python",
   "pygments_lexer": "ipython3",
   "version": "3.12.4"
  }
 },
 "nbformat": 4,
 "nbformat_minor": 2
}
