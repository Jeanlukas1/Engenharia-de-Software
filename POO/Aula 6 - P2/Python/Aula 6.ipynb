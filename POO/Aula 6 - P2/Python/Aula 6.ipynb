{
 "cells": [
  {
   "cell_type": "code",
   "execution_count": 14,
   "id": "50717f71",
   "metadata": {},
   "outputs": [
    {
     "name": "stdout",
     "output_type": "stream",
     "text": [
      "Olá, meu nome é Carlos e tenho 40 anos.\n",
      "\n",
      "Olá, meu nome é Ana e tenho 21 anos. Sou aluno e minha matrícula é 20250123.\n",
      "\n",
      "Olá, meu nome é Roberta e tenho 35 anos. Sou professor de Matemática.\n",
      "\n",
      "O Professor(a) Roberta, conversa com o aluno(a) Ana que é amigo do Carlos\n"
     ]
    }
   ],
   "source": [
    "class Pessoa:\n",
    "    def __init__(self, nome, idade):\n",
    "        self.nome = nome\n",
    "        self.idade = idade\n",
    "\n",
    "    def apresentar(self):\n",
    "        return f\"Olá, meu nome é {self.nome} e tenho {self.idade} anos.\"\n",
    "\n",
    "class Aluno(Pessoa):\n",
    "    def __init__(self, nome, idade, matricula):\n",
    "        super().__init__(nome, idade)\n",
    "        self.matricula = matricula\n",
    "\n",
    "    def apresentar(self):\n",
    "        return f\"{super().apresentar()} Sou aluno e minha matrícula é {self.matricula}.\"\n",
    "\n",
    "class Professor(Pessoa):\n",
    "    def __init__(self, nome, idade, disciplina):\n",
    "        super().__init__(nome, idade)\n",
    "        self.disciplina = disciplina\n",
    "\n",
    "    def apresentar(self):\n",
    "        return f\"{super().apresentar()} Sou professor de {self.disciplina}.\"\n",
    "    \n",
    "    def conversar(self, Aluno, Pessoa):\n",
    "        return f\"\"\"O Professor(a) {self.nome}, conversa com o aluno(a) {Aluno.nome} que é amigo do {Pessoa.nome}\"\"\"\n",
    "\n",
    "\n",
    "# Função poliformica\n",
    "def apresentar_pessoa(pessoa):\n",
    "    print(pessoa.apresentar())\n",
    "\n",
    "p1 = Pessoa(\"Carlos\", 40)\n",
    "a1 = Aluno(\"Ana\", 21, \"20250123\")\n",
    "prof1 = Professor(\"Roberta\", 35, \"Matemática\")\n",
    "\n",
    "for i in [p1, a1, prof1]:\n",
    "    apresentar_pessoa(i)\n",
    "    print()\n",
    "\n",
    "print(prof1.conversar(a1, p1))\n"
   ]
  },
  {
   "cell_type": "code",
   "execution_count": 15,
   "id": "4c2847d3",
   "metadata": {},
   "outputs": [
    {
     "name": "stdout",
     "output_type": "stream",
     "text": [
      "Olá, meu nome é Ana e tenho 21 anos. Sou aluno e minha matrícula é 20250123.\n",
      "Olá, meu nome é Roberta e tenho 35 anos. Sou professor de Matemática.\n"
     ]
    }
   ],
   "source": [
    "class Pessoa:\n",
    "    def __init__(self, nome, idade):\n",
    "        self.nome = nome\n",
    "        self.idade = idade\n",
    "\n",
    "    # método abstratato\n",
    "    def apresentar(self):\n",
    "        raise NotImplementedError(\"O método 'apresentar' deve ser implementado na subclasse.\")\n",
    "\n",
    "class Aluno(Pessoa):\n",
    "    def __init__(self, nome, idade, matricula):\n",
    "        super().__init__(nome, idade)\n",
    "        self.matricula = matricula\n",
    "\n",
    "    def apresentar(self):\n",
    "        return f\"Olá, meu nome é {self.nome} e tenho {self.idade} anos. Sou aluno e minha matrícula é {self.matricula}.\"\n",
    "\n",
    "class Professor(Pessoa):\n",
    "    def __init__(self, nome, idade, disciplina):\n",
    "        super().__init__(nome, idade)\n",
    "        self.disciplina = disciplina\n",
    "\n",
    "    def apresentar(self):\n",
    "        return f\"Olá, meu nome é {self.nome} e tenho {self.idade} anos. Sou professor de {self.disciplina}.\"\n",
    "\n",
    "def apresentar_pessoa(abstrato):\n",
    "    print(abstrato.apresentar())\n",
    "\n",
    "aluno = Aluno(\"Ana\", 21, \"20250123\")\n",
    "professor = Professor(\"Roberta\", 35, \"Matemática\")\n",
    "\n",
    "apresentar_pessoa(aluno)\n",
    "apresentar_pessoa(professor)"
   ]
  },
  {
   "cell_type": "markdown",
   "id": "fe4915c7",
   "metadata": {},
   "source": [
    "## Desafio em Python\n",
    "### Criar um sistema de herança de automoveis\n",
    "- Classe inicial | Master : Automovel\n",
    "    - Métodos de ligar, desligar __abstratos__\n",
    "\n",
    "- sub Classes | Moto, Carro, Caminhão e Ônibus\n",
    "    - Métodos deve herdar e definir os métodos já existentes em Automovel\n",
    "    - Deve criar um método acelerar que __pode ser herdado de automovel ou não!__\n",
    "\n",
    "- Método polifórmico\n",
    "    - O método polifórmico deve ligar, desligar e acelerar a qualquer uma das classes criadas"
   ]
  },
  {
   "cell_type": "markdown",
   "id": "d99903b0",
   "metadata": {},
   "source": []
  }
 ],
 "metadata": {
  "kernelspec": {
   "display_name": "Python 3",
   "language": "python",
   "name": "python3"
  },
  "language_info": {
   "codemirror_mode": {
    "name": "ipython",
    "version": 3
   },
   "file_extension": ".py",
   "mimetype": "text/x-python",
   "name": "python",
   "nbconvert_exporter": "python",
   "pygments_lexer": "ipython3",
   "version": "3.13.3"
  }
 },
 "nbformat": 4,
 "nbformat_minor": 5
}
