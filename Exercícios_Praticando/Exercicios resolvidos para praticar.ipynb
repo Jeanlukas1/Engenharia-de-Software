{
 "cells": [
  {
   "cell_type": "code",
   "execution_count": null,
   "metadata": {},
   "outputs": [],
   "source": [
    "# Faça um Programa que pergunte quanto você ganha por hora e o número de horas trabalhadas no mês.\n",
    "\n",
    "# Calcule e mostre o total do seu salário no referido mês, sabendo-se que são descontados 11% para o Imposto de Renda, 8% para o INSS e 5% para o sindicato, faça um programa que nos dê: salário bruto. quanto pagou ao INSS. quanto pagou ao sindicato. o salário líquido. calcule os descontos e o salário líquido, conforme a tabela abaixo:\n",
    "\n",
    "# + Salário Bruto : R$\n",
    "# - IR (11%) : R$\n",
    "# - INSS (8%) : R$\n",
    "# - Sindicato ( 5%) : R$\n",
    "# = Salário Liquido : R$\n",
    "\n",
    "usar = 4\n",
    "sd = 3\n",
    "\n",
    "print(\"usar = {usar} sd = {sd}\")\n",
    "\n",
    "\n"
   ]
  },
  {
   "cell_type": "code",
   "execution_count": 44,
   "metadata": {},
   "outputs": [
    {
     "name": "stdout",
     "output_type": "stream",
     "text": [
      "Digite um valor inteiro\n"
     ]
    }
   ],
   "source": [
    "x = (input(\"Digite a sua idade:\"))\n",
    "\n",
    "if isinstance(x, int) == True:\n",
    "    print(f\"Voce tem {x} anos !\")\n",
    "\n",
    "elif isinstance(x, int) == False:\n",
    "    print(\"Digite um valor inteiro\")"
   ]
  },
  {
   "cell_type": "code",
   "execution_count": 39,
   "metadata": {},
   "outputs": [
    {
     "name": "stdout",
     "output_type": "stream",
     "text": [
      "True\n"
     ]
    }
   ],
   "source": [
    "x = 234\n",
    "\n",
    "print(isinstance(x, int))"
   ]
  },
  {
   "cell_type": "code",
   "execution_count": 14,
   "metadata": {},
   "outputs": [
    {
     "name": "stdout",
     "output_type": "stream",
     "text": [
      "<class 'str'>\n",
      "2\n"
     ]
    }
   ],
   "source": [
    "#w3School exercicios:\n",
    "\n",
    "x = str(20)\n",
    "\n",
    "print(type(x)) \n",
    "print(len(x))\n",
    "\n",
    "\n"
   ]
  },
  {
   "cell_type": "code",
   "execution_count": 27,
   "metadata": {},
   "outputs": [
    {
     "name": "stdout",
     "output_type": "stream",
     "text": [
      "True\n",
      "Sim o naruto é muito pika\n"
     ]
    }
   ],
   "source": [
    "txt = 'Naruto é pika demais'\n",
    "\n",
    "print('Naruto' in txt)\n",
    "\n",
    "if 'pika' in txt:\n",
    "    print('Sim o naruto é muito pika')"
   ]
  },
  {
   "cell_type": "code",
   "execution_count": 29,
   "metadata": {},
   "outputs": [
    {
     "name": "stdout",
     "output_type": "stream",
     "text": [
      "s\n",
      "False\n"
     ]
    }
   ],
   "source": [
    "\n",
    "\n",
    "texto_2 = \"isso é caro demais\"\n",
    "\n",
    "print(texto_2[1])\n",
    "\n",
    "print('caro' not in texto_2)"
   ]
  },
  {
   "cell_type": "code",
   "execution_count": 36,
   "metadata": {},
   "outputs": [
    {
     "name": "stdout",
     "output_type": "stream",
     "text": [
      "Certinho!\n"
     ]
    }
   ],
   "source": [
    "#Manipulando string\n",
    "\n",
    "x = input('DIgite o seu nome: ').upper()\n",
    "\n",
    "if x == 'JEAN':\n",
    "    print(\"Certinho!\")\n",
    "\n",
    "else:\n",
    "    print(\"Tente denovo\")"
   ]
  },
  {
   "cell_type": "code",
   "execution_count": 39,
   "metadata": {},
   "outputs": [
    {
     "name": "stdout",
     "output_type": "stream",
     "text": [
      "OJá, mundo\n"
     ]
    }
   ],
   "source": [
    "#substituir string\n",
    "\n",
    "x = \"Olá, mundo\"\n",
    "\n",
    "print(x.replace(\"l\", \"J\"))"
   ]
  },
  {
   "cell_type": "code",
   "execution_count": 11,
   "metadata": {},
   "outputs": [
    {
     "name": "stdout",
     "output_type": "stream",
     "text": [
      "6\n"
     ]
    }
   ],
   "source": [
    "#Aleatorio\n",
    "\n",
    "import random\n",
    "\n",
    "x = random.randrange(1, 10)\n",
    "\n",
    "print(x)"
   ]
  },
  {
   "cell_type": "code",
   "execution_count": 58,
   "metadata": {},
   "outputs": [
    {
     "name": "stdout",
     "output_type": "stream",
     "text": [
      "2\n"
     ]
    }
   ],
   "source": [
    "#Quantidade de vezes que algo se repete em uma vairavel\n",
    "\n",
    "x = 1, 2, 2, 3, 3\n",
    "\n",
    "print(x.count(2))"
   ]
  },
  {
   "cell_type": "code",
   "execution_count": 56,
   "metadata": {},
   "outputs": [
    {
     "name": "stdout",
     "output_type": "stream",
     "text": [
      "Você tem 12 anos\n"
     ]
    }
   ],
   "source": [
    "# F format reserva espaço para outros tipos de variaveis\n",
    "\n",
    "idade = int(input(\"Digite a sua idade: \"))\n",
    "\n",
    "print(f\"Você tem {idade} anos!\")\n",
    "\n"
   ]
  },
  {
   "cell_type": "code",
   "execution_count": 17,
   "metadata": {},
   "outputs": [
    {
     "name": "stdout",
     "output_type": "stream",
     "text": [
      "True\n",
      "True\n",
      "True\n",
      "b é menor que a\n"
     ]
    }
   ],
   "source": [
    "# Booleanos\n",
    "\n",
    "print(10 > 9)\n",
    "print(9 > 1)\n",
    "print(100 == 100)\n",
    "\n",
    "#Estruturação if\n",
    "\n",
    "a = \"arrozinho\"\n",
    "b = \"frango\"\n",
    "\n",
    "if len(a) < len(b):\n",
    "    print(\"b é maior que a\")\n",
    "\n",
    "elif len(a) > len(b):\n",
    "    print(\"b é menor que a\")\n",
    "    \n"
   ]
  },
  {
   "cell_type": "code",
   "execution_count": 2,
   "metadata": {},
   "outputs": [
    {
     "name": "stdout",
     "output_type": "stream",
     "text": [
      "3\n"
     ]
    }
   ],
   "source": [
    "#lista \n",
    "thislist = [\"BANANA\", \"abacaxi\", \"pera\"]\n",
    "print(len(thislist))"
   ]
  },
  {
   "cell_type": "code",
   "execution_count": 3,
   "metadata": {},
   "outputs": [
    {
     "name": "stdout",
     "output_type": "stream",
     "text": [
      "['banana', 'abacaxi', 'pera'] [1, 2, 3, 4, 4] [True, False]\n"
     ]
    }
   ],
   "source": [
    "#Listas podem conter todos os tipos de dados\n",
    "lista1 = ['banana', 'abacaxi', 'pera']\n",
    "lista2 = [1, 2, 3, 4, 4]\n",
    "lista3 = [True, False]\n",
    "print(lista1, lista2, lista3)"
   ]
  },
  {
   "cell_type": "code",
   "execution_count": 14,
   "metadata": {},
   "outputs": [
    {
     "name": "stdout",
     "output_type": "stream",
     "text": [
      "[3, 4]\n"
     ]
    }
   ],
   "source": [
    "#Faixa de itens\n",
    "lista = [1, 2, 3, 4]\n",
    "print(lista[2:4])"
   ]
  },
  {
   "cell_type": "code",
   "execution_count": 17,
   "metadata": {},
   "outputs": [
    {
     "name": "stdout",
     "output_type": "stream",
     "text": [
      "[1, 3, 3, 4]\n",
      "A posiçao 1 tem o seguinte item: 3\n"
     ]
    }
   ],
   "source": [
    "#Mudar o valor de um item \n",
    "lista = [1, 2, 3, 4]\n",
    "lista[1] = 3\n",
    "print(lista)\n",
    "print(f'A posiçao 1 tem o seguinte item: {lista[1]}')"
   ]
  },
  {
   "cell_type": "code",
   "execution_count": 23,
   "metadata": {},
   "outputs": [
    {
     "name": "stdout",
     "output_type": "stream",
     "text": [
      "[1, 2, 3, 'Melancia', 4, 5]\n"
     ]
    }
   ],
   "source": [
    "#Adicionar um elemento no indice indicado\n",
    "lista = [1, 2, 3, 4, 5]\n",
    "lista.insert(3, \"Melancia\")\n",
    "print(lista)"
   ]
  },
  {
   "cell_type": "code",
   "execution_count": 26,
   "metadata": {},
   "outputs": [
    {
     "name": "stdout",
     "output_type": "stream",
     "text": [
      "[1, 2, 3, 4, 5, 'Maçã']\n"
     ]
    }
   ],
   "source": [
    "#Adicionar itnes na lista\n",
    "LISTA = [1, 2, 3, 4, 5]\n",
    "LISTA.append(\"Maçã\")\n",
    "print(LISTA)"
   ]
  },
  {
   "cell_type": "code",
   "execution_count": 27,
   "metadata": {},
   "outputs": [
    {
     "name": "stdout",
     "output_type": "stream",
     "text": [
      "[1, 2, 3, 4, 5, 'Maçã', 'papel']\n"
     ]
    }
   ],
   "source": [
    "#Adicionar elementos de uma lista eem outra lista\n",
    "lista1 = [1, 2, 3, 4, 5]\n",
    "lista2 = [\"Maçã\", \"papel\"]\n",
    "lista1.extend(lista2)\n",
    "print(lista1)"
   ]
  },
  {
   "cell_type": "code",
   "execution_count": 28,
   "metadata": {},
   "outputs": [
    {
     "name": "stdout",
     "output_type": "stream",
     "text": [
      "[1, 3, 4, 5]\n"
     ]
    }
   ],
   "source": [
    "#Rmover itens especificado\n",
    "lista = [1, 2, 3, 4, 5]\n",
    "lista.remove(2)\n",
    "print(lista)"
   ]
  },
  {
   "cell_type": "code",
   "execution_count": 29,
   "metadata": {},
   "outputs": [
    {
     "name": "stdout",
     "output_type": "stream",
     "text": [
      "[1, 3, 4]\n"
     ]
    }
   ],
   "source": [
    "#Remove pelo indice especificado\n",
    "lista =  [1, 2, 3, 4]\n",
    "lista.pop(1)\n",
    "print(lista)\n"
   ]
  },
  {
   "cell_type": "code",
   "execution_count": 55,
   "metadata": {},
   "outputs": [
    {
     "name": "stdout",
     "output_type": "stream",
     "text": [
      "[]\n"
     ]
    }
   ],
   "source": [
    "#Limpar lista\n",
    "lista = [1, 2, 3, 2]\n",
    "lista.clear()\n",
    "print(lista)"
   ]
  },
  {
   "cell_type": "code",
   "execution_count": 113,
   "metadata": {},
   "outputs": [
    {
     "name": "stdout",
     "output_type": "stream",
     "text": [
      "[1, 2, 3, 4, 5]\n"
     ]
    }
   ],
   "source": [
    "#list comprehension\n",
    "lista = [1, 2, 3, 4, 5]\n",
    "novalista = [numero for numero in lista]\n",
    "print(novalista)"
   ]
  }
 ],
 "metadata": {
  "kernelspec": {
   "display_name": "base",
   "language": "python",
   "name": "python3"
  },
  "language_info": {
   "codemirror_mode": {
    "name": "ipython",
    "version": 3
   },
   "file_extension": ".py",
   "mimetype": "text/x-python",
   "name": "python",
   "nbconvert_exporter": "python",
   "pygments_lexer": "ipython3",
   "version": "3.11.9"
  }
 },
 "nbformat": 4,
 "nbformat_minor": 2
}
