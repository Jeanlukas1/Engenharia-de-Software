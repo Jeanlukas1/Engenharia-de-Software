{
 "cells": [
  {
   "cell_type": "code",
   "execution_count": 1,
   "metadata": {},
   "outputs": [
    {
     "name": "stdout",
     "output_type": "stream",
     "text": [
      "a soma do 90 + 90 = 180 \n",
      "a multiplicação do 90 * 90 = 8100\n"
     ]
    }
   ],
   "source": [
    "#QUESTÃO 1:\n",
    "#Crie um programa onde o usuário digita o valor_a e o valor_b\n",
    "#a) Realize a soma dos valores\n",
    "#b) Realize a multiplicação dos valores\n",
    "\n",
    "valor_a = float(input(\"Digite um valor: \"))\n",
    "valor_b = float(input(\"Digite outro valor: \"))\n",
    "\n",
    "#a) Realize a soma dos valores:\n",
    "soma = valor_a + valor_b\n",
    "print(f\"a soma do {valor_a:.0f} + {valor_b:.0f} = {soma:.0f} \")\n",
    "\n",
    "#b) Realize a multiplicação dos valores:\n",
    "multiplicaçao = valor_a * valor_b\n",
    "print(f\"a multiplicação do {valor_a:.0f} * {valor_b:.0f} = {multiplicaçao:.0f}\")\n"
   ]
  },
  {
   "cell_type": "code",
   "execution_count": 4,
   "metadata": {},
   "outputs": [
    {
     "name": "stdout",
     "output_type": "stream",
     "text": [
      "Olá Bem vindo a nossa loja!!! \n",
      " Está com sorte acabamos de abrir uma promoção relâmpago aproveite a compra dos produtos com 40% de desconto \n",
      "A\\O baixo vai custar 720 com 40% de desconto\n"
     ]
    }
   ],
   "source": [
    "#QUESTÃO 2:\n",
    "#Um atacadista quer inserir um desconto de 40% em todos os produtos em uma promoção relampago! Crie\n",
    "#um programa onde o usuário digita o nome de um produto e o seu preço. Ao final será mostrado a\n",
    "#mensagem informando:\n",
    "#Exemplo: A bola vai custar 16 reais com 40% de desconto\n",
    "print(\"Olá Bem vindo a nossa loja!!! \\n Está com sorte acabamos de abrir uma promoção relâmpago aproveite a compra dos produtos com 40% de desconto \")\n",
    "produto = (input(\"Digite o nome do produt que você esta comprando: \"))\n",
    "preço = float(input(\"Digite o preço do produto: \"))\n",
    "desconto = preço - (preço * 0.40)\n",
    "print(f\"A\\O {produto} vai custar {desconto:.0f} com 40% de desconto\")\n"
   ]
  },
  {
   "cell_type": "code",
   "execution_count": 7,
   "metadata": {},
   "outputs": [
    {
     "name": "stdout",
     "output_type": "stream",
     "text": [
      "lamento\n"
     ]
    }
   ],
   "source": [
    "#QUESTÃO 3:\n",
    "#Crie um programa que, pergunte ao usuário se ele está bem.\n",
    "#O usuário deverá responder sim ou não com: (sim/nao)\n",
    "#Se a resposta for sim , responda: Que bom!\n",
    "#Se ele responder nao , pergunte: Por qual motivo?\n",
    "#Independente da resposta, deverá responder: Lamento\n",
    "\n",
    "bem = input(\"Você está bem ? \")\n",
    "if bem == 'sim':\n",
    "    print(\"Quem bom!!\")\n",
    "else:\n",
    "    motivo = input(\"Por Qual motivo ? \")\n",
    "    print(\"lamento\")"
   ]
  },
  {
   "cell_type": "code",
   "execution_count": 1,
   "metadata": {},
   "outputs": [
    {
     "name": "stdout",
     "output_type": "stream",
     "text": [
      "o valor é de 3.0\n"
     ]
    }
   ],
   "source": [
    "#QUESTÃO 4 \n",
    "#Faça o somatório dos valores a, b, c e divida por d, sem alterar os dados abaixo. O resultado deverá ser\n",
    "#arredondado para ter apenas uma casa decimal.\n",
    "a = 15\n",
    "b = 28.0\n",
    "c = '110'\n",
    "d = '50.8'\n",
    "\n",
    "soma = a + b + float(c)\n",
    "divisão = soma / float(d)\n",
    "\n",
    "print(f\"o valor é de {divisão:.1f}\")"
   ]
  },
  {
   "cell_type": "code",
   "execution_count": 3,
   "metadata": {},
   "outputs": [
    {
     "name": "stdout",
     "output_type": "stream",
     "text": [
      "O preço final do produto é: R$217.50\n"
     ]
    }
   ],
   "source": [
    "# QUESTÃO 5\n",
    "#A loja Python Toys muda seus preços de acordo com alguns eventos.\n",
    "#Crie um programa que o qual o vendedor informa o preço de um produto. Posteriormente, ele deve\n",
    "#perguntar se é uma data festiva.\n",
    "#Caso positivo, insira um acréscimo de 45%.\n",
    "#Caso negativo, mantenha o preço normal. Caso seja Black Friday, insira um desconto de 30% no preço\n",
    "#final\n",
    "\n",
    "preco_produto = float(input(\"Informe o preço do produto: \"))\n",
    "\n",
    "data_festiva = input(\"É uma data festiva? (sim/não/Black Friday): \")\n",
    "\n",
    "\n",
    "if data_festiva == \"Black Friday\":\n",
    "    preco_final = preco_produto - (preco_produto * 0.30)\n",
    "elif data_festiva == \"sim\":\n",
    "    preco_final = preco_produto * 1.45  \n",
    "else:\n",
    "    preco_final = preco_produto  \n",
    "    \n",
    "\n",
    "print(f\"O preço final do produto é: R${preco_final:.2f}\")"
   ]
  },
  {
   "cell_type": "code",
   "execution_count": 13,
   "metadata": {},
   "outputs": [
    {
     "name": "stdout",
     "output_type": "stream",
     "text": [
      "você fará a segunda época, é sua ultima chance!!\n"
     ]
    }
   ],
   "source": [
    "#QUESTÃO 6\n",
    "#Em um sistema de aprovação da Universidade Exemplo,\n",
    "#Crie um programa o qual o professor digita a nota do aluno de P1 (primeira prova) e P2 \n",
    "#(segunda prova) e fornece a média.\n",
    "#Se a média for igual ou maior que 7, o aluno estará aprovado. \n",
    "#Se for abaixo de 7, não estará aprovado.\n",
    "#Se essa nota de não aprovação for maior ou igual a 3, ele terá uma nova chance, para fazer \n",
    "#uma prova final (P3). A nota abaixo de 3, estará reprovado.\n",
    "#Nessa prova final (p3), é desconsiderado todas as notas anteriores da matéria e o aluno \n",
    "#deverá tirar uma nota maior ou igual a 6 para ser aprovado.\n",
    "#Caso ele ainda não consiga tirar a nota de aprovação na P3 e não tenha tirado uma nota \n",
    "#abaixo ou igual a 3 (que reprovaria na P3), ele poderá fazer uma prova que se chama\n",
    "#Segunda época que é a última chance!\n",
    "#Nessa prova segunda época, o aluno deverá tirar nota maior ou igual a 6 para que seja \n",
    "#aprovado. Se tirar abaixo, estará reprovado\n",
    "\n",
    "p1 = float(input(\"Digite a nota da P1: \"))\n",
    "p2 = float(input(\"Digite a nota da P2: \"))\n",
    "\n",
    "media = (p1 + p2)/2\n",
    "\n",
    "if media >= 7:\n",
    "    print(\"aprovado\")\n",
    "\n",
    "elif media < 3:\n",
    "    print(\"reprovado\")\n",
    "    print(\"você vai pra p3\")\n",
    "        \n",
    "else:\n",
    "    p3 = float(input(\"Digite a nota da P3: \"))\n",
    "    \n",
    "    if p3 >= 6:\n",
    "       print(\"aprovado\")\n",
    "    \n",
    "    elif p3 <= 3:\n",
    "       print(\"você fará a segunda época, é sua ultima chance!!\")\n",
    "    \n",
    "    else:\n",
    "      segunda_epoca = float(input(\"Digite a nota da segunda época: \"))\n",
    "      \n",
    "      if segunda_epoca >= 6:\n",
    "       print(\"aprovado\")\n",
    "      \n",
    "      else:\n",
    "          print(\"reprovado\")"
   ]
  },
  {
   "cell_type": "code",
   "execution_count": 18,
   "metadata": {},
   "outputs": [
    {
     "name": "stdout",
     "output_type": "stream",
     "text": [
      "este não é um ano de campeonato!!! \n"
     ]
    }
   ],
   "source": [
    "#Questão 7\n",
    "#Em Porto Velho, Rondônia temos um campeonato de um jogo muito famoso. Mas este, tem algumas regras \n",
    "#para que ocorra ou não. Este jogo ocorre em anos que são divisíveis por 4, mas que não seja divisível por \n",
    "#100, a não ser que também seja divisível por 400.\n",
    "#Se for ano de campeonato, deverá aparecer a mensagem : Este é um ano de campeonato .\n",
    "#Se não for, deverá imprimir a mensagem: Este não é um ano de campeonato\n",
    "\n",
    "ano = float(input(\"Digite o ano: \"))\n",
    "\n",
    "if ano % 4 == 0 and ano % 100 != 0 or ano % 400 == 0:\n",
    "    print(\"este é um ano de campeonato!!! \")\n",
    "else:\n",
    "    print(\"este não é um ano de campeonato!!! \")"
   ]
  }
 ],
 "metadata": {
  "kernelspec": {
   "display_name": ".venv",
   "language": "python",
   "name": "python3"
  },
  "language_info": {
   "codemirror_mode": {
    "name": "ipython",
    "version": 3
   },
   "file_extension": ".py",
   "mimetype": "text/x-python",
   "name": "python",
   "nbconvert_exporter": "python",
   "pygments_lexer": "ipython3",
   "version": "3.11.9"
  }
 },
 "nbformat": 4,
 "nbformat_minor": 2
}
