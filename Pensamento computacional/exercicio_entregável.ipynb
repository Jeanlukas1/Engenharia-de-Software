{
 "cells": [
  {
   "cell_type": "markdown",
   "metadata": {},
   "source": [
    "EXERCICIOS:\n",
    "\n",
    "25/05/2024"
   ]
  },
  {
   "cell_type": "code",
   "execution_count": 2,
   "metadata": {},
   "outputs": [
    {
     "name": "stdout",
     "output_type": "stream",
     "text": [
      "2\n",
      "4\n",
      "6\n",
      "8\n",
      "10\n",
      "12\n",
      "14\n",
      "16\n",
      "18\n",
      "20\n"
     ]
    }
   ],
   "source": [
    "#1) Crie um programa que imprime de 2 a 20, sendo que ele\n",
    "#deve imprimir de dois em dois.\n",
    "\n",
    "for numero in range(2, 22, 2):\n",
    "    print(numero)\n"
   ]
  },
  {
   "cell_type": "code",
   "execution_count": 3,
   "metadata": {},
   "outputs": [
    {
     "name": "stdout",
     "output_type": "stream",
     "text": [
      "3\n",
      "6\n",
      "9\n",
      "12\n",
      "15\n"
     ]
    }
   ],
   "source": [
    "#2) Crie um programa que imprime de 3 a 15, sendo que ele\n",
    "#deve imprimir de 3 em 3.\n",
    "\n",
    "for numero in range(3, 18, 3):\n",
    "    print(numero)"
   ]
  },
  {
   "cell_type": "code",
   "execution_count": 14,
   "metadata": {},
   "outputs": [
    {
     "name": "stdout",
     "output_type": "stream",
     "text": [
      "['inglaterra', 'Japão', 'Panamá', 'Bolivia', 'Canadá', 'China', 'México']\n"
     ]
    }
   ],
   "source": [
    "#3)\n",
    "#a)Adicione nessa lista o país Inglaterra como primeira\n",
    "#viagem.\n",
    "#b) Exclua Argentina do roteiro de viagem.\n",
    "#c) Adicione México nas viagens\n",
    "#viagem = ['Japão', 'Panamá', 'Argentina', 'Bolivia'\n",
    "#,'Canadá', 'China']\n",
    "\n",
    "viagem = ['Japão', 'Panamá', 'Argentina', 'Bolivia','Canadá', 'China']\n",
    "\n",
    "viagem.insert(0,'inglaterra')\n",
    "del viagem[3]\n",
    "viagem.append('México')\n",
    "\n",
    "print(viagem)"
   ]
  },
  {
   "cell_type": "code",
   "execution_count": 32,
   "metadata": {},
   "outputs": [
    {
     "name": "stdout",
     "output_type": "stream",
     "text": [
      "A quantidade de aprovados: 5\n",
      "A quantidade de reprovados: 8\n",
      "A média da turma: 6.08\n"
     ]
    }
   ],
   "source": [
    "#4)\n",
    "#Crie um programa que irá Informar a média da turma e a\n",
    "#quantidade de notas menores ou igual a 7.\n",
    "# Vão informar quantos estão reprovados e quantos estão\n",
    "#aprovados\n",
    "#notas = [0, 10, 10, 10, 9, 8, 5, 4]\n",
    "\n",
    "notas = [0, 10, 10, 10, 9, 8, 5, 4, 2, 6, 6, 5, 4]\n",
    "reprovados = []\n",
    "aprovados = []\n",
    "for nota in notas:\n",
    "    if nota < 7:\n",
    "        reprovados.append(nota)\n",
    "    else:\n",
    "        aprovados.append(nota)\n",
    "media = sum(notas) /len(notas)\n",
    "qnt_aprovados = len(aprovados)\n",
    "qnt_reprovados = len(reprovados)\n",
    "\n",
    "print(f'A quantidade de aprovados: {qnt_aprovados}')\n",
    "print(f'A quantidade de reprovados: {qnt_reprovados}')\n",
    "print(f'A média da turma: {media:.2f}')"
   ]
  },
  {
   "cell_type": "code",
   "execution_count": null,
   "metadata": {},
   "outputs": [],
   "source": [
    "#5)\n",
    "#vendedores = ['Hugo', 'Ignacio', 'Jony', 'Lion', 'Monica',\n",
    "#'Natalia']\n",
    "#endas = [50, 100, 2, 30, 50, 3]\n",
    "#mprima os valores das listas da seguinte forma:\n",
    "#Vendas por vendedores:\n",
    "#------------------------\n",
    "#Hugo: 50\n",
    "#ignacio: 100\n",
    "#Jony: 2\n",
    "#Lion: 30\n",
    "#Monica: 50\n",
    "#atalia: 3"
   ]
  },
  {
   "cell_type": "code",
   "execution_count": null,
   "metadata": {},
   "outputs": [],
   "source": [
    "#6) Crie um programa que informe o nome dos alunos\n",
    "#aprovados, com suas respectivas notas e os reprovados.\n",
    "#notas = [0, 2, 10, 9, 8, 5]\n",
    "#alunos = ['Fulano', 'Cilano', 'Beltrano', 'Gerlano',\n",
    "#'Marlano', 'Jesiano']"
   ]
  }
 ],
 "metadata": {
  "kernelspec": {
   "display_name": "base",
   "language": "python",
   "name": "python3"
  },
  "language_info": {
   "codemirror_mode": {
    "name": "ipython",
    "version": 3
   },
   "file_extension": ".py",
   "mimetype": "text/x-python",
   "name": "python",
   "nbconvert_exporter": "python",
   "pygments_lexer": "ipython3",
   "version": "3.11.3"
  }
 },
 "nbformat": 4,
 "nbformat_minor": 2
}
