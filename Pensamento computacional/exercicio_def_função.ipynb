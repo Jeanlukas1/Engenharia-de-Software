{
 "cells": [
  {
   "cell_type": "markdown",
   "metadata": {},
   "source": [
    "## Praticando funções:"
   ]
  },
  {
   "cell_type": "code",
   "execution_count": 2,
   "metadata": {},
   "outputs": [
    {
     "name": "stdout",
     "output_type": "stream",
     "text": [
      "------------------------------\n",
      "     SISTEMA DE ALUNOS\n",
      "------------------------------\n"
     ]
    }
   ],
   "source": [
    "# Fazendo linhas para estética do programa em def:\n",
    "def linha():\n",
    "    print('-' * 30)\n",
    "    \n",
    "    \n",
    "linha()\n",
    "print('     SISTEMA DE ALUNOS')\n",
    "linha()"
   ]
  },
  {
   "cell_type": "code",
   "execution_count": 3,
   "metadata": {},
   "outputs": [
    {
     "name": "stdout",
     "output_type": "stream",
     "text": [
      "------------------------------\n",
      "      BATALHA FINAL!!\n",
      "------------------------------\n"
     ]
    }
   ],
   "source": [
    "# Parâmetros:\n",
    "# Mostrando um mensagem diferente\n",
    "\n",
    "def mensagem(msg):\n",
    "    linha()\n",
    "    print(msg)\n",
    "    linha()\n",
    "mensagem('      BATALHA FINAL!!')"
   ]
  },
  {
   "cell_type": "code",
   "execution_count": 51,
   "metadata": {},
   "outputs": [
    {
     "name": "stdout",
     "output_type": "stream",
     "text": [
      "A soma de 65 e 656 é: 721\n"
     ]
    }
   ],
   "source": [
    "# Soma usando def:\n",
    "\n",
    "def somar_dois_numeros(num_1, num_2):\n",
    "    soma = num_1 + num_2 \n",
    "    return soma\n",
    "    \n",
    "num_1 = int(input('Digite o primeiro numero: '))\n",
    "num_2 = int(input('Digite o segundo numero: ')) \n",
    "\n",
    "resultado = somar_dois_numeros(num_1, num_2)\n",
    "print(f'A soma de {num_1} e {num_2} é: {resultado}')"
   ]
  },
  {
   "cell_type": "code",
   "execution_count": 52,
   "metadata": {},
   "outputs": [
    {
     "name": "stdout",
     "output_type": "stream",
     "text": [
      "11\n"
     ]
    }
   ],
   "source": [
    "#Soma usando def:\n",
    "\n",
    "def soma(a, b):\n",
    "    s = a + b\n",
    "    print(s)\n",
    "\n",
    "soma(5, 6)    "
   ]
  },
  {
   "cell_type": "code",
   "execution_count": 59,
   "metadata": {},
   "outputs": [
    {
     "name": "stdout",
     "output_type": "stream",
     "text": [
      "Eu recebi os valores (2, 1, 2), que no total são, 3 numeros\n",
      "Eu recebi os valores (1, 2, 6, 7, 3), que no total são, 5 numeros\n",
      "Eu recebi os valores (1, 3, 5, 6), que no total são, 4 numeros\n"
     ]
    }
   ],
   "source": [
    "# Contador:\n",
    "# desempacotador\n",
    "def contador(* num):\n",
    "    tam = len(num)\n",
    "    print(f'Eu recebi os valores {num}, que no total são, {tam} numeros')\n",
    "    \n",
    "contador(2, 1, 2)\n",
    "contador(1, 2, 6, 7, 3)\n",
    "contador(1, 3, 5, 6)"
   ]
  },
  {
   "cell_type": "code",
   "execution_count": 64,
   "metadata": {},
   "outputs": [
    {
     "name": "stdout",
     "output_type": "stream",
     "text": [
      "------------------------------\n",
      "    CONTROLE DE TERRENO\n",
      "------------------------------\n",
      "A área de um terreno 6.0x6.0 é de 36.0m2\n"
     ]
    }
   ],
   "source": [
    "#Faça um programa que tenha uma função chamada área(), que receba as dimensões de um terreno retangular (largura e comprimento) e mostre a área do terreno\n",
    "\n",
    "def area(largura, comprimento):\n",
    "    mult = largura * comprimento\n",
    "    print(f'A área de um terreno {largura}x{comprimento} é de {mult}m2')\n",
    "\n",
    "\n",
    "mensagem('    CONTROLE DE TERRENO')\n",
    "\n",
    "largura = float(input('Digite a largura do terreno em (m): '))\n",
    "comprimento = float(input('Digite o comprimento do terreno em (m): '))\n",
    "area(largura, comprimento)\n",
    "#resultado = area(largura, comprimento)\n",
    "\n",
    "    "
   ]
  },
  {
   "cell_type": "code",
   "execution_count": 65,
   "metadata": {},
   "outputs": [
    {
     "name": "stdout",
     "output_type": "stream",
     "text": [
      "~-~~-~~-~~-~~-~~-~\n",
      "  oi\n",
      "~-~~-~~-~~-~~-~~-~\n"
     ]
    }
   ],
   "source": [
    "#Faça com que as linhas se adaptem ao tamanho da palavra:\n",
    "\n",
    "def escreva(msg):\n",
    "    tam = len(msg) + 4\n",
    "    print('~-~' * tam)\n",
    "    print(f'  {msg}')\n",
    "    print('~-~' * tam)\n",
    "    \n",
    "escreva('oi')"
   ]
  }
 ],
 "metadata": {
  "kernelspec": {
   "display_name": "Python 3",
   "language": "python",
   "name": "python3"
  },
  "language_info": {
   "codemirror_mode": {
    "name": "ipython",
    "version": 3
   },
   "file_extension": ".py",
   "mimetype": "text/x-python",
   "name": "python",
   "nbconvert_exporter": "python",
   "pygments_lexer": "ipython3",
   "version": "3.11.3"
  }
 },
 "nbformat": 4,
 "nbformat_minor": 2
}
