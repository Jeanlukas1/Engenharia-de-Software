{
 "cells": [
  {
   "cell_type": "code",
   "execution_count": 2,
   "metadata": {},
   "outputs": [
    {
     "name": "stdout",
     "output_type": "stream",
     "text": [
      "o resultado entre 5.0 x 3.0 = 15.0\n"
     ]
    }
   ],
   "source": [
    "import math\n",
    "valor_1 = float(input(\"Digite o valor 1: \"))\n",
    "operação = input(\"Digite a operação que deseja fazer: \")\n",
    "valor_2 = float(input(\"Digite o valor 2: \"))\n",
    "mult = valor_1 * valor_2\n",
    "soma = valor_1 + valor_2\n",
    "divi = valor_1 / valor_2\n",
    "sub = valor_1 - valor_2\n",
    "raiz = math.sqrt(valor_2)\n",
    "\n",
    "if operação == \"x\":\n",
    "    print(f\"o resultado entre {valor_1} x {valor_2} = {mult}\")\n",
    "elif operação == \"+\":\n",
    "    print(f\"o resultado entre {valor_1} + {valor_2} = {soma}\")\n",
    "elif operação == \"/\":\n",
    "    print(f\"o resultado entre {valor_1} / {valor_2} = {divi}\")\n",
    "elif operação == \"-\":\n",
    "    print(f\"o resultado entre {valor_1} - {valor_2} = {sub}\")\n",
    "elif operação == \"^\":\n",
    "    print(f\"o resultado entre {valor_1} raíz de {valor_2} = {raiz}\")\n",
    "else:\n",
    "    print(\"Digite novamente a operação novamente, certifique-se de que colocou o sinal correto\")"
   ]
  },
  {
   "cell_type": "code",
   "execution_count": 1,
   "metadata": {},
   "outputs": [],
   "source": [
    "import tkinter as tk\n",
    "from tkinter import ttk\n",
    "\n",
    "class CalculadoraApp:\n",
    "    def __init__(self, root):\n",
    "        self.root = root\n",
    "        self.root.title(\"Calculadora\")\n",
    "\n",
    "        # Estilos\n",
    "        self.style = ttk.Style()\n",
    "        self.style.configure(\"TButton\", font=(\"Arial\", 14))\n",
    "\n",
    "        # Campo de entrada\n",
    "        self.entry = ttk.Entry(root, width=20, font=(\"Arial\", 18), justify=\"right\")\n",
    "        self.entry.grid(row=0, column=0, columnspan=4, padx=10, pady=10)\n",
    "\n",
    "        # Botões numéricos\n",
    "        botoes_numeros = [\n",
    "            '7', '8', '9',\n",
    "            '4', '5', '6',\n",
    "            '1', '2', '3',\n",
    "            '0', '.', '='\n",
    "        ]\n",
    "        for i, valor in enumerate(botoes_numeros):\n",
    "            btn = ttk.Button(root, text=valor, width=5, command=lambda v=valor: self.atualiza_display(v))\n",
    "            btn.grid(row=1 + i // 3, column=i % 3, padx=5, pady=5)\n",
    "\n",
    "        # Botões de operação\n",
    "        botoes_operacao = ['+', '-', '*', '/']\n",
    "        for i, valor in enumerate(botoes_operacao):\n",
    "            btn = ttk.Button(root, text=valor, width=5, command=lambda v=valor: self.atualiza_display(v))\n",
    "            btn.grid(row=i+1, column=3, padx=5, pady=5)\n",
    "\n",
    "        # Botão de Limpar\n",
    "        btn_clear = ttk.Button(root, text='C', width=5, command=self.limpar)\n",
    "        btn_clear.grid(row=5, column=0, padx=5, pady=5)\n",
    "\n",
    "        # Botão de Deletar\n",
    "        btn_del = ttk.Button(root, text='DEL', width=5, command=self.deletar)\n",
    "        btn_del.grid(row=5, column=1, padx=5, pady=5)\n",
    "\n",
    "        # Botão de Sair\n",
    "        btn_sair = ttk.Button(root, text='Sair', width=5, command=root.quit)\n",
    "        btn_sair.grid(row=5, column=2, padx=5, pady=5)\n",
    "\n",
    "    def atualiza_display(self, valor):\n",
    "        if valor == '=':\n",
    "            try:\n",
    "                resultado = eval(self.entry.get())\n",
    "                self.entry.delete(0, tk.END)\n",
    "                self.entry.insert(tk.END, str(resultado))\n",
    "            except:\n",
    "                self.entry.delete(0, tk.END)\n",
    "                self.entry.insert(tk.END, \"Erro\")\n",
    "        else:\n",
    "            self.entry.insert(tk.END, valor)\n",
    "\n",
    "    def limpar(self):\n",
    "        self.entry.delete(0, tk.END)\n",
    "\n",
    "    def deletar(self):\n",
    "        self.entry.delete(len(self.entry.get()) - 1, tk.END)\n",
    "\n",
    "root = tk.Tk()\n",
    "app = CalculadoraApp(root)\n",
    "root.mainloop()\n"
   ]
  }
 ],
 "metadata": {
  "kernelspec": {
   "display_name": ".venv",
   "language": "python",
   "name": "python3"
  },
  "language_info": {
   "codemirror_mode": {
    "name": "ipython",
    "version": 3
   },
   "file_extension": ".py",
   "mimetype": "text/x-python",
   "name": "python",
   "nbconvert_exporter": "python",
   "pygments_lexer": "ipython3",
   "version": "3.11.9"
  }
 },
 "nbformat": 4,
 "nbformat_minor": 2
}
