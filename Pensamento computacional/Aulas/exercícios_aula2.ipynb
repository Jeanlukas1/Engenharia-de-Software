{
 "cells": [
  {
   "cell_type": "markdown",
   "metadata": {},
   "source": [
    "# Exercícios aula 2\n",
    "18/05/2024"
   ]
  },
  {
   "cell_type": "code",
   "execution_count": 6,
   "metadata": {},
   "outputs": [
    {
     "name": "stdout",
     "output_type": "stream",
     "text": [
      "5\n",
      "6\n",
      "7\n",
      "8\n",
      "9\n",
      "10\n",
      "11\n",
      "12\n",
      "13\n",
      "14\n",
      "15\n",
      "16\n",
      "17\n",
      "18\n",
      "19\n",
      "20\n"
     ]
    }
   ],
   "source": [
    "#Questão 1)  \n",
    "# a) Crie um programa que imprime os valores de 5 a 20.\n",
    "\n",
    "for numero in range(5 , 21):\n",
    "    print(numero)\n"
   ]
  },
  {
   "cell_type": "code",
   "execution_count": 1,
   "metadata": {},
   "outputs": [
    {
     "name": "stdout",
     "output_type": "stream",
     "text": [
      "2\n",
      "4\n",
      "6\n",
      "8\n",
      "10\n",
      "12\n",
      "14\n",
      "16\n",
      "18\n",
      "20\n",
      "22\n",
      "24\n",
      "26\n",
      "28\n",
      "30\n"
     ]
    }
   ],
   "source": [
    "#b) Crie um programa que imprime de 2 a 30, de dois em dois.\n",
    "\n",
    "for numero in range(2, 32, 2):\n",
    "    print(numero)"
   ]
  },
  {
   "cell_type": "code",
   "execution_count": 7,
   "metadata": {},
   "outputs": [
    {
     "name": "stdout",
     "output_type": "stream",
     "text": [
      "letra a\n",
      "letra b\n",
      "letra c\n",
      "letra d\n",
      "letra e\n",
      "letra f\n"
     ]
    }
   ],
   "source": [
    "#Questão 2) Dado a lista a seguir:\n",
    "#letras = ['a', 'b', 'c', 'd', 'e', 'f'']\n",
    "#imprima os valores da seguinte forma:\n",
    "#letra a\n",
    "#letra b\n",
    "#letra c\n",
    "#letra d\n",
    "#letra e\n",
    "\n",
    "letras = ['a', 'b', 'c', 'd', 'e', 'f']\n",
    "          \n",
    "for i in letras:\n",
    "    print(f'letra {i}')"
   ]
  },
  {
   "cell_type": "code",
   "execution_count": 25,
   "metadata": {},
   "outputs": [
    {
     "name": "stdout",
     "output_type": "stream",
     "text": [
      "1 não é divisível\n",
      "2 não é divisível\n",
      "3 Fizz\n",
      "4 não é divisível\n",
      "5 Buzz\n",
      "6 Fizz\n",
      "7 não é divisível\n",
      "8 não é divisível\n",
      "9 Fizz\n",
      "10 Buzz\n",
      "11 não é divisível\n",
      "12 Fizz\n",
      "13 não é divisível\n",
      "14 não é divisível\n",
      "15 FIzzBuzz!\n",
      "16 não é divisível\n",
      "17 não é divisível\n",
      "18 Fizz\n",
      "19 não é divisível\n",
      "20 Buzz\n",
      "21 Fizz\n",
      "22 não é divisível\n",
      "23 não é divisível\n",
      "24 Fizz\n",
      "25 Buzz\n",
      "26 não é divisível\n",
      "27 Fizz\n",
      "28 não é divisível\n",
      "29 não é divisível\n",
      "30 FIzzBuzz!\n"
     ]
    }
   ],
   "source": [
    "#Questão 3) \n",
    "#Crie um programa que imprime valores de 1 a 30. Sendo que se for divisível por 3 ele imprime Fizz. Se for divisivel por 5, Buzz. Se for divisivel por 3 e 5, FizzBuzz!\n",
    "\n",
    "for numero in range(1, 31):\n",
    "    if numero %3 == 0 and numero %5 == 0:\n",
    "        print(f'{numero} FIzzBuzz!')\n",
    "    elif numero %5 == 0:\n",
    "        print(f'{numero} Buzz')\n",
    "    elif numero %3 == 0:\n",
    "        print(f'{numero} Fizz')\n",
    "    else:\n",
    "        print(f'{numero} não é divisível')\n",
    "  "
   ]
  },
  {
   "cell_type": "code",
   "execution_count": 9,
   "metadata": {},
   "outputs": [
    {
     "name": "stdout",
     "output_type": "stream",
     "text": [
      "a media ponderada das notas é 8.3\n"
     ]
    }
   ],
   "source": [
    "#Questão 4) \n",
    "\n",
    "#Deverá ser criado um programa que fornece uma média ponderada de notas de um candidato:\n",
    "#Cada fase terá um peso maior que a da primeira. Ao final será fornecido o resultado da média ponderada das notas. \n",
    "#Exemplo. \n",
    "#- Se são 3 fases. A primeira terá peso 1. A segunda peso 2. A terceira peso 3.\n",
    "#- Se são 4 fases. A primeira terá peso 1. A segunda peso 2. A terceira peso 3.A quarta terá peso 4.\n",
    "#Obs: Duvidas sobre o que é uma média ponderada ou como fazer, pesquise na internet como, para que possa aplicar neste problema. \n",
    "\n",
    "def calcular_media_ponderada(notas):\n",
    "    total = 0\n",
    "    peso = 1\n",
    "    for nota in notas:\n",
    "        total += nota * peso\n",
    "        peso += 1\n",
    "    media = total / sum(range(1, len(notas) + 1))\n",
    "    return media\n",
    "\n",
    "notas = [7, 8, 9]\n",
    "media_ponderada = calcular_media_ponderada(notas)\n",
    "print(f'a media ponderada das notas é {media_ponderada:.1f}')\n",
    "\n",
    "\n"
   ]
  },
  {
   "cell_type": "code",
   "execution_count": 13,
   "metadata": {},
   "outputs": [
    {
     "name": "stdout",
     "output_type": "stream",
     "text": [
      "Funcionários a serem demitidos : [1, 90, 80, 80]\n"
     ]
    }
   ],
   "source": [
    "#Crie um programa que os funcionários que venderem menos que 100 unidades serão adicionados na lista de funcionários a serem demitidos.\n",
    "\n",
    "lista_de_vendas = [1, 100, 500, 200, 300, 90, 80, 500, 80]\n",
    "lista_de_demitidos = []\n",
    "\n",
    "for vendas in lista_de_vendas:\n",
    "    if vendas < 100:\n",
    "     lista_de_demitidos.append(vendas)\n",
    "print(f\"Funcionários a serem demitidos : {lista_de_demitidos}\")"
   ]
  },
  {
   "cell_type": "code",
   "execution_count": null,
   "metadata": {},
   "outputs": [],
   "source": [
    "vendas = [100, 200, 5, 2, 30, 12]\n",
    "meses = ['jan', 'fev', 'mar', 'abr', 'mai', 'jun']\n",
    "\n",
    "for i, venda in enumerate(vendas):\n",
    "    print(f'vendas de {meses[i]}: {venda}')"
   ]
  }
 ],
 "metadata": {
  "kernelspec": {
   "display_name": "base",
   "language": "python",
   "name": "python3"
  },
  "language_info": {
   "codemirror_mode": {
    "name": "ipython",
    "version": 3
   },
   "file_extension": ".py",
   "mimetype": "text/x-python",
   "name": "python",
   "nbconvert_exporter": "python",
   "pygments_lexer": "ipython3",
   "version": "3.11.3"
  }
 },
 "nbformat": 4,
 "nbformat_minor": 2
}
