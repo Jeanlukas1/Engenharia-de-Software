{
 "cells": [
  {
   "cell_type": "code",
   "execution_count": null,
   "metadata": {},
   "outputs": [],
   "source": [
    "vendas = [100, 200, 5, 2, 30, 12]\n",
    "meses = ['jan', 'fev', 'mar', 'abr', 'mai', 'jun']\n",
    "\n",
    "for i, venda in enumerate(vendas):\n",
    "    print(f'Vendas de {meses[i]}: {venda}')"
   ]
  },
  {
   "cell_type": "markdown",
   "metadata": {},
   "source": [
    "1) Crie um programa que imprime de 2 a 20, sendo que ele \n",
    "deve imprimir de dois em dois."
   ]
  },
  {
   "cell_type": "code",
   "execution_count": null,
   "metadata": {},
   "outputs": [],
   "source": [
    "for i in range(2, 21, 2):\n",
    "    print(i)\n"
   ]
  },
  {
   "cell_type": "markdown",
   "metadata": {},
   "source": [
    "2)  Crie um programa que imprime de 3 a 15, sendo que ele \n",
    "deve imprimir de 3 em 3. "
   ]
  },
  {
   "cell_type": "code",
   "execution_count": null,
   "metadata": {},
   "outputs": [],
   "source": [
    "for i in range(3, 16, 3):\n",
    "    print(i)"
   ]
  },
  {
   "cell_type": "markdown",
   "metadata": {},
   "source": [
    "3)\n",
    "a)Adicione nessa lista o país Inglaterra como primeira \n",
    "viagem.\n",
    "\n",
    "b)  Exclua Argentina do roteiro de viagem. \n",
    "\n",
    "c)  Adicione México nas viagens \n",
    "\n",
    "viagem = ['Japão', 'Panamá', 'Argentina', 'Bolivia' \n",
    "\n",
    ",'Canadá', 'China'] "
   ]
  },
  {
   "cell_type": "code",
   "execution_count": null,
   "metadata": {},
   "outputs": [],
   "source": [
    "viagem = ['Japão', 'Panamá', 'Argentina', 'Bolivia' ,'Canadá', 'China']\n",
    "viagem.insert(0, 'Inglaterra')\n",
    "del viagem[3]\n",
    "viagem.append('Mexico')\n",
    "print(viagem)\n",
    "\n"
   ]
  },
  {
   "cell_type": "markdown",
   "metadata": {},
   "source": [
    "4)   \n",
    "Crie um programa que irá Informar a média da turma e a \n",
    "\n",
    "quantidade de notas menores ou igual a 7.  \n",
    "\n",
    "# Vão informar quantos estão reprovados e quantos estão \n",
    "\n",
    "aprovados \n",
    "\n",
    "notas = [0, 10, 10, 10, 9, 8, 5, 4, 2, 6, 6, 5, 4] "
   ]
  },
  {
   "cell_type": "code",
   "execution_count": 54,
   "metadata": {},
   "outputs": [
    {
     "name": "stdout",
     "output_type": "stream",
     "text": [
      "A média da turma é 3.6\n",
      "Lista de aprovados [10, 10, 10, 9, 8]\n",
      "Lista de reprovados [0, 5, 4, 2, 6, 6, 5, 4]\n"
     ]
    }
   ],
   "source": [
    "lista_de_notas = [0, 10, 10, 10, 9, 8, 5, 4, 2, 6, 6, 5, 4]\n",
    "lista_de_aprovados = []\n",
    "lista_de_reprovados = []\n",
    "\n",
    "for nota in lista_de_notas:\n",
    "    if nota >= 7 :\n",
    "        lista_de_aprovados.append(nota)        \n",
    "    else:\n",
    "        lista_de_reprovados.append(nota)\n",
    "media = sum(lista_de_aprovados)/len(lista_de_notas)\n",
    "print(f'A média da turma é {media:.1f}')\n",
    "print(f'Lista de aprovados {lista_de_aprovados}')\n",
    "print(f'Lista de reprovados {lista_de_reprovados}')"
   ]
  },
  {
   "cell_type": "markdown",
   "metadata": {},
   "source": [
    "5) \n",
    "vendedores = ['Hugo', 'Ignacio', 'Jony', 'Lion', 'Monica', \n",
    "\n",
    "'Natalia'] \n",
    "\n",
    "vendas = [50, 100, 2, 30, 50, 3] \n",
    "\n",
    "Imprima os valores das listas da seguinte forma: \n",
    "\n",
    "Vendas por vendedores:  ------------------------ \n",
    "\n",
    "Hugo: 50 \n",
    "Ignacio: 100 \n",
    "Jony: 2 \n",
    "Lion: 30 \n",
    "Monica: 50 \n",
    "Natalia: 3"
   ]
  },
  {
   "cell_type": "code",
   "execution_count": 12,
   "metadata": {},
   "outputs": [
    {
     "name": "stdout",
     "output_type": "stream",
     "text": [
      "Vendas por vendedores:\n",
      "-----------------------\n",
      "Hugo: 50\n",
      "Ignacio: 100\n",
      "Jony: 2\n",
      "Lion: 30\n",
      "Monica: 50\n",
      "Natalia: 3\n"
     ]
    }
   ],
   "source": [
    "vendedores = ['Hugo', 'Ignacio', 'Jony', 'Lion', 'Monica', 'Natalia']\n",
    "vendas = [50, 100, 2, 30, 50, 3]\n",
    "\n",
    "print(\"Vendas por vendedores:\")\n",
    "print('-----------------------')\n",
    "for i in range(len(vendedores)):\n",
    "    print(f\"{vendedores[i]}: {vendas[i]}\")\n"
   ]
  },
  {
   "cell_type": "markdown",
   "metadata": {},
   "source": [
    "6)  Crie um programa que informe o nome dos alunos \n",
    "\n",
    "aprovados, com suas respectivas notas e os reprovados. \n",
    "\n",
    "notas = [0, 2, 10, 9, 8, 5] \n",
    "\n",
    "alunos = ['Fulano', 'Cilano', 'Beltrano', 'Gerlano', \n",
    "\n",
    "'Marlano', 'Jesiano']"
   ]
  },
  {
   "cell_type": "code",
   "execution_count": 9,
   "metadata": {},
   "outputs": [
    {
     "name": "stdout",
     "output_type": "stream",
     "text": [
      "Alunos Aprovados:\n",
      "Beltrano: 10\n",
      "Gerlano: 9\n",
      "Marlano: 8\n",
      "\n",
      "Alunos Reprovados:\n",
      "Fulano: 0\n",
      "Cilano: 2\n",
      "Jesiano: 5\n"
     ]
    }
   ],
   "source": [
    "notas = [0, 2, 10, 9, 8, 5]\n",
    "alunos = ['Fulano', 'Cilano', 'Beltrano', 'Gerlano', 'Marlano', 'Jesiano']\n",
    "\n",
    "aprovados = []\n",
    "reprovados = []\n",
    "\n",
    "limite_aprovacao = 6\n",
    "\n",
    "for i in range(len(alunos)):\n",
    "    if notas[i] >= limite_aprovacao:\n",
    "        aprovados.append((alunos[i], notas[i]))\n",
    "    else:\n",
    "        reprovados.append((alunos[i], notas[i]))\n",
    "\n",
    "print(\"Alunos Aprovados:\")\n",
    "for aluno, nota in aprovados:\n",
    "    print(f\"{aluno}: {nota}\")\n",
    "\n",
    "print(\"\\nAlunos Reprovados:\")\n",
    "for aluno, nota in reprovados:\n",
    "    print(f\"{aluno}: {nota}\")\n"
   ]
  }
 ],
 "metadata": {
  "kernelspec": {
   "display_name": "base",
   "language": "python",
   "name": "python3"
  },
  "language_info": {
   "codemirror_mode": {
    "name": "ipython",
    "version": 3
   },
   "file_extension": ".py",
   "mimetype": "text/x-python",
   "name": "python",
   "nbconvert_exporter": "python",
   "pygments_lexer": "ipython3",
   "version": "3.11.7"
  }
 },
 "nbformat": 4,
 "nbformat_minor": 2
}
