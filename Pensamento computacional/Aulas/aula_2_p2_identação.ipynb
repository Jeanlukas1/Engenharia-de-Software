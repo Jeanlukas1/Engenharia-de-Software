{
 "cells": [
  {
   "cell_type": "markdown",
   "metadata": {},
   "source": [
    "# IDENTAÇÃO \n",
    "18/05/2024"
   ]
  },
  {
   "cell_type": "markdown",
   "metadata": {},
   "source": [
    "oque tiver dentro da lista é chamado de item "
   ]
  },
  {
   "cell_type": "code",
   "execution_count": 15,
   "metadata": {},
   "outputs": [
    {
     "name": "stdout",
     "output_type": "stream",
     "text": [
      "a media do aluno foi: 10.0\n"
     ]
    }
   ],
   "source": [
    "soma = 0\n",
    "qnt_provas = int(input(\"insira o numero de avaliações: \"))\n",
    "for i in range(qnt_provas):\n",
    "    nota = float(input(\"Digite a nota: \"))\n",
    "    soma += nota\n",
    "media = soma/qnt_provas\n",
    "print(f\"a media do aluno foi: {media}\") "
   ]
  },
  {
   "cell_type": "code",
   "execution_count": 2,
   "metadata": {},
   "outputs": [
    {
     "name": "stdout",
     "output_type": "stream",
     "text": [
      "2\n",
      "3\n",
      "4\n",
      "5\n",
      "6\n",
      "7\n",
      "8\n",
      "9\n"
     ]
    }
   ],
   "source": [
    "for i in range(2 , 10):\n",
    "    print(i)"
   ]
  },
  {
   "cell_type": "code",
   "execution_count": 14,
   "metadata": {},
   "outputs": [
    {
     "name": "stdout",
     "output_type": "stream",
     "text": [
      "['goiaba', 'laranja', 'cenoura', 'morango', 'baunilha', 'chocolate', 'acerola']\n",
      "['goiaba', 'laranja', 'cenoura', 'morango', 'baunilha', 'chocolate', 'acerola', 'cacau']\n",
      "['goiaba', 'laranja', 'cenoura', 'morango', 'abacaxi', 'baunilha', 'chocolate', 'acerola', 'cacau']\n",
      "['laranja', 'cenoura', 'morango', 'abacaxi', 'baunilha', 'chocolate', 'acerola', 'cacau']\n",
      "Bolo de laranja\n",
      "Bolo de cenoura\n",
      "Bolo de morango\n",
      "Bolo de abacaxi\n",
      "Bolo de baunilha\n",
      "Bolo de chocolate\n",
      "Bolo de acerola\n",
      "Bolo de cacau\n"
     ]
    }
   ],
   "source": [
    "sabores = ['goiaba', 'laranja', 'cenoura', 'morango']\n",
    "novos_sabores = ['baunilha', 'chocolate', 'acerola']\n",
    "\n",
    "#extender uma lista na outra\n",
    "sabores.extend(novos_sabores)\n",
    "print(sabores)\n",
    "#adiciona uma lista na nota\n",
    "sabores.append('cacau')\n",
    "print(sabores)\n",
    "#colocar extamente aonde voce quer que o item esteja\n",
    "sabores.insert(4, 'abacaxi')\n",
    "print(sabores)\n",
    "#remove um item da lista\n",
    "sabores.remove('goiaba')\n",
    "print(sabores)\n",
    "\n",
    "for sabor in sabores:\n",
    "    print(f'Bolo de {sabor}')"
   ]
  },
  {
   "cell_type": "code",
   "execution_count": 13,
   "metadata": {},
   "outputs": [
    {
     "data": {
      "text/plain": [
       "4"
      ]
     },
     "execution_count": 13,
     "metadata": {},
     "output_type": "execute_result"
    }
   ],
   "source": [
    "#matriz\n",
    "valores = [[0, 1, 2], [3, 4, 5], [6, 7, 8]]\n",
    "valores[1][1]\n"
   ]
  },
  {
   "cell_type": "code",
   "execution_count": null,
   "metadata": {},
   "outputs": [],
   "source": [
    "#tupla é usada com parentes e não pode ser mudada\n",
    "senhas = ('123', '456', '789')\n",
    "senhas.append('987')\n",
    "print()"
   ]
  }
 ],
 "metadata": {
  "kernelspec": {
   "display_name": "base",
   "language": "python",
   "name": "python3"
  },
  "language_info": {
   "codemirror_mode": {
    "name": "ipython",
    "version": 3
   },
   "file_extension": ".py",
   "mimetype": "text/x-python",
   "name": "python",
   "nbconvert_exporter": "python",
   "pygments_lexer": "ipython3",
   "version": "3.11.3"
  }
 },
 "nbformat": 4,
 "nbformat_minor": 2
}
