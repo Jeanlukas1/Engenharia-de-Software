{
 "cells": [
  {
   "cell_type": "code",
   "execution_count": 70,
   "metadata": {},
   "outputs": [
    {
     "name": "stdout",
     "output_type": "stream",
     "text": [
      "a subtração do valor_a menos o valor_b é igual 0.0\n",
      "a divisão dos valores a e b é igual a 1.0\n"
     ]
    }
   ],
   "source": [
    "#QUESTÃO 1:\n",
    "#Crie um programa onde o usuário digita o valor_a e o valor_b\n",
    "#a) Realize a subtração dos valores\n",
    "#b) Realize a divisão dos valores\n",
    "\n",
    "numero = float(input(\"Digie o valor_a : \"))\n",
    "numero_2 = float(input(\"Digite o valor_b: \"))\n",
    "\n",
    "subtracão = numero - numero_2\n",
    "divisão = numero / numero_2\n",
    "\n",
    "print(f\"a subtração do valor_a menos o valor_b é igual {subtracão}\")\n",
    "print(f\"a divisão dos valores a e b é igual a {divisão}\")\n"
   ]
  },
  {
   "cell_type": "code",
   "execution_count": 53,
   "metadata": {},
   "outputs": [
    {
     "name": "stdout",
     "output_type": "stream",
     "text": [
      "O valor do/a BOLA mais 40% é de R$22.40\n"
     ]
    }
   ],
   "source": [
    "#QUESTÃO 2:\n",
    "#Um atacadista quer inserir um aumento de 40% em todos os produtos em uma feriado relampago! Crie um\n",
    "#programa onde o usuário digita o nome de um produto e o seu preço. Ao Mnal será mostrado a mensagem\n",
    "#informando:\n",
    "#Exemplo: A bola vai custar 16 reais com 40% de aumento\n",
    "\"\"\"BEM VINDO A NOSSA LOJA\"\"\"\n",
    "produto = input(\"Digite o nome do produto: \")\n",
    "preço = float(input(\"Digite o preço do produto: \"))\n",
    "aumento = preço + (preço * 0.40)\n",
    "\n",
    "print(f\"O valor do/a {produto} mais 40% é de R${aumento:.2f}\")"
   ]
  },
  {
   "cell_type": "code",
   "execution_count": 2,
   "metadata": {},
   "outputs": [
    {
     "name": "stdout",
     "output_type": "stream",
     "text": [
      "senha errada!!\n"
     ]
    }
   ],
   "source": [
    "#QUESTÃO 3\n",
    "#Crie um programa o qual o usuário deverá digitar uma senha. Se ele acertar uma delas,\n",
    "#poderá entrar na festa, com a mensagem:\n",
    "#Bem vindo a festa!!\n",
    "#Caso contrário:\n",
    "#Senha errada!!\n",
    "#Utilize esses dados abaixo:\n",
    "#senhas = ['1234', '6789', 'senha', 'incorreta']\n",
    "\n",
    "senhas_1 = ['1234', '6789', 'senha', 'incorreta']\n",
    "senha_2 = input(\"Digite a senha correta: \")\n",
    "\n",
    "if senha_2 in senhas_1:\n",
    "   print(\"Bem vindo a festa!!\")\n",
    "else:\n",
    "   print(\"senha errada!!\")"
   ]
  },
  {
   "cell_type": "code",
   "execution_count": 26,
   "metadata": {},
   "outputs": [
    {
     "name": "stdout",
     "output_type": "stream",
     "text": [
      "o a variavel a é do tipo <class 'str'>\n",
      "o a variavel b é do tipo <class 'str'>\n",
      "o a variavel c é do tipo <class 'bool'>\n",
      "o a variavel d é do tipo <class 'float'>\n",
      "o a variavel e é do tipo <class 'int'>\n"
     ]
    }
   ],
   "source": [
    "#QUESTÃO 4:\n",
    "#Desenvolva um programa em Python que, para cada uma das variáveis fornecidas abaixo, imprima o nome\n",
    "#da variável seguido de seu tipo de dado. Por exemplo, para a variável a , o programa deve imprimir:\n",
    "#f: int\n",
    "#a = 'Ciclano'\n",
    "#b = '5'\n",
    "#c = True\n",
    "#d = 22.0\n",
    "#e = 12\n",
    "\n",
    "a = 'Ciclano'\n",
    "b = '5'\n",
    "c = True\n",
    "d = 22.0\n",
    "e = 12\n",
    "\n",
    "tipo_a = type(a)\n",
    "tipo_b = type(b)\n",
    "tipo_c = type(c)\n",
    "tipo_d = type(d)\n",
    "tipo_e = type(e)\n",
    "\n",
    "print(f\"o a variavel a é do tipo: {tipo_a}\")\n",
    "print(f\"o a variavel b é do tipo: {tipo_b}\")\n",
    "print(f\"o a variavel c é do tipo: {tipo_c}\")\n",
    "print(f\"o a variavel d é do tipo: {tipo_d}\")\n",
    "print(f\"o a variavel e é do tipo: {tipo_e}\")\n",
    "\n",
    "\n",
    "\n"
   ]
  },
  {
   "cell_type": "code",
   "execution_count": 29,
   "metadata": {},
   "outputs": [
    {
     "name": "stdout",
     "output_type": "stream",
     "text": [
      "o seu salário dom base no seu desempenho foi de 700.00\n"
     ]
    }
   ],
   "source": [
    "#QUESTÃO 5:\n",
    "#Crie um programa para remuneração de acordo com desempenho.\n",
    "#Se o vendedor conseguir realizar 50 vendas ou mais, ele recebe um adicional de 25% em\n",
    "#cima do sua remuneração.\n",
    "#Se o vendedor vender abaixo de 5, ele receberá um desconto de 30%.\n",
    "#Se vender de 5 até 49, receberá a remuneração normal (de 1000 reais).\n",
    "#remuneracao = 1000\n",
    "\n",
    "remuneração = 1000\n",
    "vendas = float(input(\"Digite o seu número de vendas nesse mês: \"))\n",
    "adicional = remuneração + (remuneração * 0.25)\n",
    "desconto = remuneração - (remuneração * 0.30)\n",
    "\n",
    "if vendas < 5:\n",
    "    total = desconto\n",
    "if vendas >= 5 and vendas <= 49:\n",
    "    total = remuneração\n",
    "elif vendas >= 50:\n",
    "    total = adicional\n",
    "\n",
    "print(f\"o seu salário dom base no seu desempenho foi de {total:.2f}\")"
   ]
  },
  {
   "cell_type": "code",
   "execution_count": 3,
   "metadata": {},
   "outputs": [
    {
     "name": "stdout",
     "output_type": "stream",
     "text": [
      "Bem vindo!! Desejo uma excelente experiência\n"
     ]
    }
   ],
   "source": [
    "#QUESTÃO 6:\n",
    "#Julho de 2024. Vai passar o FIlme DeadPool e Wolverine. Para poder assistir, deve ter idade maior ou igual\n",
    "#16 anos.\n",
    "#Crie um programa que pergunte ao usuário sua idade.\n",
    "#Se a pessoa tiver a idade exigida, ou esteja acompanhado de um maior de idade, forneça a mensagem:\n",
    "#Bem vindo!! Desejo uma excelente experiência!!\n",
    "#Caso a idade seja inferior a 16 e não esteja acompanhado de um maior de idade.\n",
    "#A resposta deverá ser:\n",
    "#Infelizmente você não poderá assistir esse filme!!\n",
    "\n",
    "idade = float(input(\"Digite a sua idade: \"))\n",
    "acompanhado = input(\"você está acompnahado de um maior de idade sim/não: \")\n",
    "\n",
    "if idade >= 16 and acompanhado == \"sim\":\n",
    "    print(\"Bem vindo!! Desejo uma excelente experiência\")\n",
    "else:\n",
    "    print(\"infelizmente você não podera assistir esse filme!!\")"
   ]
  },
  {
   "cell_type": "code",
   "execution_count": 5,
   "metadata": {},
   "outputs": [
    {
     "name": "stdout",
     "output_type": "stream",
     "text": [
      "14\n",
      "ataque bem sucedido\n"
     ]
    }
   ],
   "source": [
    "#QUESTÃO 7:\n",
    "#import random\n",
    "#Crie um programa que imite uma rolagem de dados de 20 lados.\n",
    "#Se for maior ou igual 12, deverá ser escrito:\n",
    "#Ataque bem sucedido\n",
    "#Caso contrário:\n",
    "#Errou o ataque.\n",
    "\n",
    "import random\n",
    "dados = random.randint (1,20)\n",
    "print(dados)\n",
    "if dados >= 12:\n",
    "    print(\"ataque bem sucedido\")\n",
    "else:\n",
    "    print(\"errou o ataque\")\n"
   ]
  },
  {
   "cell_type": "code",
   "execution_count": 27,
   "metadata": {},
   "outputs": [
    {
     "name": "stdout",
     "output_type": "stream",
     "text": [
      "não é um ano bissexto\n"
     ]
    }
   ],
   "source": [
    "#QUESTÃO 8:\n",
    "#O ano bissexto tem duração de 366 dias, diferentemente dos demais que têm 365 dias. A\n",
    "#inclusão de um dia foi feita para aproximar o calendário ao movimento de translação da\n",
    "#erra, tempo que o planeta leva para dar a volta no Sol, que é de 365 dias, 5 horas, 48 minutos\n",
    "#e 46 segundos.\n",
    "#Todo ano bissexto é divisível por 4, mas não é divisível por 100, a não ser que também seja\n",
    "#divísivel por 400.\n",
    "#Se for ano bissexto deverá aparecer a mensagem : Este é um ano bissexto .\n",
    "#Se não for, deverá imprimir a mensagem: Este não é um ano bissexto\n",
    "\n",
    "ano = float(input(\"Digite um ano: \"))\n",
    "\n",
    "if ano % 4 == 0 and ano % 100 != 0 or ano %400 == 0:\n",
    "    print(\"este é um ano bissexto\")\n",
    "else:\n",
    "    print(\"não é um ano bissexto\")\n"
   ]
  }
 ],
 "metadata": {
  "kernelspec": {
   "display_name": "Python 3",
   "language": "python",
   "name": "python3"
  },
  "language_info": {
   "codemirror_mode": {
    "name": "ipython",
    "version": 3
   },
   "file_extension": ".py",
   "mimetype": "text/x-python",
   "name": "python",
   "nbconvert_exporter": "python",
   "pygments_lexer": "ipython3",
   "version": "3.11.3"
  }
 },
 "nbformat": 4,
 "nbformat_minor": 2
}
