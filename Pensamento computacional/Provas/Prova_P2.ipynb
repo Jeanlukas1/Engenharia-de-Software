{
 "cells": [
  {
   "cell_type": "code",
   "execution_count": 10,
   "metadata": {},
   "outputs": [
    {
     "name": "stdout",
     "output_type": "stream",
     "text": [
      "1\n",
      "2\n",
      "3\n",
      "4\n",
      "5\n",
      "6\n",
      "7\n",
      "8\n",
      "9\n",
      "10\n"
     ]
    }
   ],
   "source": [
    "#QUSTÃO 1:\n",
    "#a) Crie um programa com while, que imprimir valores de 10 a 1.\n",
    "#b) Crie um programa com for, que imprime valores de 10 a 1\n",
    "\n",
    "numero = 1\n",
    "\n",
    "while numero <=10:\n",
    "    print(numero)\n",
    "    numero+=1\n",
    "    "
   ]
  },
  {
   "cell_type": "code",
   "execution_count": 8,
   "metadata": {},
   "outputs": [
    {
     "name": "stdout",
     "output_type": "stream",
     "text": [
      "1\n",
      "2\n",
      "3\n",
      "4\n",
      "5\n",
      "6\n",
      "7\n",
      "8\n",
      "9\n",
      "10\n"
     ]
    }
   ],
   "source": [
    "#b) Crie um programa com for, que imprime valores de 10 a 1\n",
    "\n",
    "for i in range(1, 11):\n",
    "    print(i)"
   ]
  },
  {
   "cell_type": "code",
   "execution_count": 15,
   "metadata": {},
   "outputs": [
    {
     "data": {
      "text/html": [
       "<div>\n",
       "<style scoped>\n",
       "    .dataframe tbody tr th:only-of-type {\n",
       "        vertical-align: middle;\n",
       "    }\n",
       "\n",
       "    .dataframe tbody tr th {\n",
       "        vertical-align: top;\n",
       "    }\n",
       "\n",
       "    .dataframe thead th {\n",
       "        text-align: right;\n",
       "    }\n",
       "</style>\n",
       "<table border=\"1\" class=\"dataframe\">\n",
       "  <thead>\n",
       "    <tr style=\"text-align: right;\">\n",
       "      <th></th>\n",
       "      <th>alunos</th>\n",
       "      <th>notas</th>\n",
       "    </tr>\n",
       "  </thead>\n",
       "  <tbody>\n",
       "    <tr>\n",
       "      <th>0</th>\n",
       "      <td>Alberto</td>\n",
       "      <td>10</td>\n",
       "    </tr>\n",
       "    <tr>\n",
       "      <th>1</th>\n",
       "      <td>Bento</td>\n",
       "      <td>8</td>\n",
       "    </tr>\n",
       "    <tr>\n",
       "      <th>2</th>\n",
       "      <td>Carlos</td>\n",
       "      <td>6</td>\n",
       "    </tr>\n",
       "    <tr>\n",
       "      <th>3</th>\n",
       "      <td>Denis</td>\n",
       "      <td>8</td>\n",
       "    </tr>\n",
       "    <tr>\n",
       "      <th>4</th>\n",
       "      <td>Evaldo</td>\n",
       "      <td>2</td>\n",
       "    </tr>\n",
       "    <tr>\n",
       "      <th>5</th>\n",
       "      <td>Fabiano</td>\n",
       "      <td>1</td>\n",
       "    </tr>\n",
       "  </tbody>\n",
       "</table>\n",
       "</div>"
      ],
      "text/plain": [
       "    alunos notas\n",
       "0  Alberto    10\n",
       "1    Bento     8\n",
       "2   Carlos     6\n",
       "3    Denis     8\n",
       "4   Evaldo     2\n",
       "5  Fabiano     1"
      ]
     },
     "execution_count": 15,
     "metadata": {},
     "output_type": "execute_result"
    }
   ],
   "source": [
    "#Abaixo temos duas listas. Uma com os nomes da lista e os outros com:\n",
    "#alunos = ['Alberto', 'Bento', 'Carlos', 'Denis', 'Evaldo', 'Fabiano']\n",
    "#notas = [10, 8, 6, 8, 2, 1]\n",
    "#Resultado esperado:\n",
    "#Alberto: 10\n",
    "#Bento: 8\n",
    "#Carlos: 6\n",
    "#Denis: 8\n",
    "#valdo: 2\n",
    "#biano: 1\n",
    "\n",
    "import pandas as pd\n",
    "\n",
    "df = pd.DataFrame(\n",
    "    {\n",
    "\n",
    "    \"alunos\" : ['Alberto', 'Bento', 'Carlos', 'Denis', 'Evaldo', 'Fabiano'],\n",
    "    \"notas\" : ['10', '8', '6', '8', '2', '1']\n",
    "    \n",
    "    \n",
    "    }\n",
    ")\n",
    "df\n"
   ]
  },
  {
   "cell_type": "code",
   "execution_count": 3,
   "metadata": {},
   "outputs": [
    {
     "name": "stdout",
     "output_type": "stream",
     "text": [
      "Senha incorreta. Tente novamente.\n",
      "Senha incorreta. Tente novamente.\n",
      "Senha correta! Acesso liberado.\n"
     ]
    }
   ],
   "source": [
    "#Dado as senhas abaixo, crie um programa em que se o usuário acertar uma das senhas, aparece que\n",
    "#acertou a senha. Caso contrário, pedirá para o usuário digitá-la novamente. senhas = ['certo', '123', '456']\n",
    "\n",
    "senha_correta = ['123', 'certo', '456']\n",
    "\n",
    "while True:\n",
    "  senha_digitada = input(\"Digite a senha: \")\n",
    "\n",
    "  if senha_digitada in senha_correta:\n",
    "    print(\"Senha correta! Acesso liberado.\")\n",
    "    break\n",
    "  else:\n",
    "    print(\"Senha incorreta. Tente novamente.\")"
   ]
  },
  {
   "cell_type": "code",
   "execution_count": 93,
   "metadata": {},
   "outputs": [
    {
     "name": "stdout",
     "output_type": "stream",
     "text": [
      "1\n",
      "2\n",
      "3 Fizz!\n",
      "4\n",
      "5 Buzz!\n",
      "6 Fizz!\n",
      "7\n",
      "8\n",
      "9 Fizz!\n",
      "10 Buzz!\n",
      "11\n",
      "12 Fizz!\n",
      "13\n",
      "14\n",
      "15 FIzzBuzz!\n",
      "16\n",
      "17\n",
      "18 Fizz!\n",
      "19\n",
      "20 Buzz!\n"
     ]
    }
   ],
   "source": [
    "#Crie um programa que faça a contagem de 1 a 20. Se o número for divísivel por 3, imprimirá Tzz. Se for\n",
    "#divisivel por 5, buzz. Se for divisivel por 3 e 5, FizzBuzz. Se não for, imprimira o número.\n",
    "\n",
    "\n",
    "for numero in range(1, 21):\n",
    "    if numero %3 == 0 and numero %5 == 0:\n",
    "        print(f'{numero} FIzzBuzz!')\n",
    "    elif numero %5 == 0:\n",
    "        print(f'{numero} Buzz!')\n",
    "    elif numero %3 == 0:\n",
    "        print(f'{numero} Fizz!')\n",
    "    else:\n",
    "        print(f'{numero}')\n",
    "  \n",
    " "
   ]
  },
  {
   "cell_type": "code",
   "execution_count": 23,
   "metadata": {},
   "outputs": [
    {
     "name": "stdout",
     "output_type": "stream",
     "text": [
      "filmes: Matrix, Deadpool,Toy Story, GodFather, MIB, Hannibal.\n",
      "\n"
     ]
    }
   ],
   "source": [
    "#Dado a lista de filmes.\n",
    "#filmes = ['Matrix', 'Deadpool', 'GodFather', 'MIB', 'Hannibal']\n",
    "#a) Adicione o filme Toy Story e deverá ser impresso da seguinte forma, sem [ ]:\n",
    "#filmes: Matrix, Deadpool,Toy Story, GodFather, MIB, Hannibal.\n",
    "#b) Agora remova fillme MIB:\n",
    "#filmes: Matrix, Deadpool,Toy Story, GodFather, Hannibal.\n",
    "#c) Agora imprima a lista de filmes da seguinte forma:\n",
    "#filmes: Matrix, Deadpool,Toy Story, GodFather e Hannibal.\n",
    "\n",
    "#a:\n",
    "filmes = ['Matrix', ' Deadpool', ' GodFather', ' MIB', ' Hannibal.']\n",
    "\n",
    "filmes.insert(2, \"Toy Story\")  \n",
    "\n",
    "print(\"filmes:\", end=\" \") \n",
    "for filme in filmes:\n",
    "  print(filme, end=\",\") \n",
    "print(\"\\b\\n\")  "
   ]
  },
  {
   "cell_type": "code",
   "execution_count": 26,
   "metadata": {},
   "outputs": [
    {
     "name": "stdout",
     "output_type": "stream",
     "text": [
      "filmes: Matrix, Deadpool, Toy Story, GodFather, Hannibal.\n",
      "\n"
     ]
    }
   ],
   "source": [
    "#b:\n",
    "filmes = ['Matrix', ' Deadpool', ' Toy Story', ' GodFather', 'MIB', ' Hannibal.']\n",
    "filmes.remove(\"MIB\")\n",
    "\n",
    "print(\"filmes:\", end=\" \") \n",
    "for filme in filmes:\n",
    "  print(filme, end=\",\") \n",
    "print(\"\\b\\n\")  "
   ]
  },
  {
   "cell_type": "code",
   "execution_count": 29,
   "metadata": {},
   "outputs": [
    {
     "name": "stdout",
     "output_type": "stream",
     "text": [
      "filmes: Matrix, Deadpool, Toy Story, GodFather, e Hannibal.\n",
      "\n"
     ]
    }
   ],
   "source": [
    "#c:\n",
    "filmes = ['Matrix', ' Deadpool', ' Toy Story', ' GodFather', ' e Hannibal.']\n",
    "\n",
    "print(\"filmes:\", end=\" \") \n",
    "for filme in filmes:\n",
    "  print(filme, end=\",\") \n",
    "print(\"\\b\\n\")  "
   ]
  },
  {
   "cell_type": "code",
   "execution_count": 89,
   "metadata": {},
   "outputs": [
    {
     "name": "stdout",
     "output_type": "stream",
     "text": [
      "Rolagem: 1\n"
     ]
    }
   ],
   "source": [
    "#Crie uma função que simule uma rolagem de dados de 1 a 10 e retorne o valor da rolagem. Exemplo:\n",
    "#Rolagem: 7\n",
    "\n",
    "import random\n",
    "\n",
    "def dados(rolagem):\n",
    "    print(rolagem)\n",
    "dados(f'Rolagem: {random.randint(1,10)}')\n",
    "    \n",
    "    "
   ]
  },
  {
   "cell_type": "code",
   "execution_count": 2,
   "metadata": {},
   "outputs": [
    {
     "name": "stdout",
     "output_type": "stream",
     "text": [
      "Senha correta! Acesso liberado.\n",
      "senhas incorretas: ['1', '123']\n"
     ]
    }
   ],
   "source": [
    "#Crie um programa que pergunte qual a senha. Se for digitado 3 vezes errado, será bloqueado as\n",
    "#possibilidades. Cada senha errada deverá ser armazenada dentro de uma lista.\n",
    "\n",
    "senhas_incorretas = []\n",
    "senha_correta = ['admin123']\n",
    "\n",
    "while True:\n",
    "  senha_digitada = input(\"Digite a senha: \")\n",
    "\n",
    "  if senha_digitada in senha_correta:\n",
    "    print(\"Senha correta! Acesso liberado.\")\n",
    "    break\n",
    "  elif senha_digitada not in senha_correta:\n",
    "      senhas_incorretas.append(senha_digitada)\n",
    "  else:\n",
    "      print(\"Senha incorreta. Tente novamente.\")\n",
    "\n",
    "print(f'senhas incorretas: {senhas_incorretas}')\n"
   ]
  }
 ],
 "metadata": {
  "kernelspec": {
   "display_name": "base",
   "language": "python",
   "name": "python3"
  },
  "language_info": {
   "codemirror_mode": {
    "name": "ipython",
    "version": 3
   },
   "file_extension": ".py",
   "mimetype": "text/x-python",
   "name": "python",
   "nbconvert_exporter": "python",
   "pygments_lexer": "ipython3",
   "version": "3.11.3"
  }
 },
 "nbformat": 4,
 "nbformat_minor": 2
}
