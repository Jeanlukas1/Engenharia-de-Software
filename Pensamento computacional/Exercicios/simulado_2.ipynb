{
 "cells": [
  {
   "cell_type": "code",
   "execution_count": null,
   "metadata": {},
   "outputs": [],
   "source": [
    "olá = (input('olá, bom dia como você está: '))\n",
    "if olá == 'bem':\n",
    "    print('Que Bom!!!' )\n",
    "else:\n",
    "    motivo = (input('por qual motivo: ')) \n",
    "    print('lamento! ')"
   ]
  },
  {
   "cell_type": "code",
   "execution_count": null,
   "metadata": {},
   "outputs": [],
   "source": [
    "import random\n",
    "dados = random.randint (1,10)\n",
    "print(dados)\n",
    "if dados >= 7:\n",
    "    print('voce acertou o golpe!! ')\n",
    "elif dados < 7:\n",
    "    print('voce errou o golpe, e pedeu metade da vida! ')    \n",
    "    "
   ]
  },
  {
   "cell_type": "code",
   "execution_count": null,
   "metadata": {},
   "outputs": [],
   "source": [
    "brinquedo = 100\n",
    "data = input(\"Hoje é uma data festiva: sim - não - blackfriday \")\n",
    "total_40 = brinquedo + (brinquedo * 0.40)\n",
    "total = 100\n",
    "total_desconto = brinquedo - (brinquedo * 0.20)\n",
    "if data == 'sim':\n",
    "    print(f'o valor do brinquedo é de {total_40:.2f}')\n",
    "elif data == 'não':\n",
    "    print(f'o valor do produto é de {total}')\n",
    "elif data == 'blackfriday':\n",
    "    print(f'o valor do produto mais desconto é de {total_desconto}')"
   ]
  },
  {
   "cell_type": "code",
   "execution_count": null,
   "metadata": {},
   "outputs": [],
   "source": [
    "filmes = [\"senhor dos anéis\", \"lagoa Azul\", \"matrix\", \"interestelar\"]\n",
    "#0,1,2,3\n",
    "print(filmes[0])\n",
    "print(\"assisti ontem o filme \", filmes[2])\n",
    "\n",
    "filmes.append(\"star wars\")\n",
    "filmes.append(\"senhor dos anéis\")\n",
    "filmes.append(\"Poderoso chefão\")\n",
    "print(filmes)\n",
    "filmes = input(\"qual o melhor filme dentre os listados abaixo? \")\n",
    "filme0 = \"senhor dos anéis\"\n",
    "if filmes == \"senhor dos anéis\":\n",
    "    print(\"muito bom\")    \n",
    "else:\n",
    "    print(\"você tem muito mal gosto\")"
   ]
  }
 ],
 "metadata": {
  "kernelspec": {
   "display_name": ".venv",
   "language": "python",
   "name": "python3"
  },
  "language_info": {
   "codemirror_mode": {
    "name": "ipython",
    "version": 3
   },
   "file_extension": ".py",
   "mimetype": "text/x-python",
   "name": "python",
   "nbconvert_exporter": "python",
   "pygments_lexer": "ipython3",
   "version": "3.11.7"
  }
 },
 "nbformat": 4,
 "nbformat_minor": 2
}
