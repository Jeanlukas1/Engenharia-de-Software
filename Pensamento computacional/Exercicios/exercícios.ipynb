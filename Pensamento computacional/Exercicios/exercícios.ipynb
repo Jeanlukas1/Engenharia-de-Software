{
 "cells": [
  {
   "cell_type": "code",
   "execution_count": 2,
   "metadata": {},
   "outputs": [
    {
     "name": "stdout",
     "output_type": "stream",
     "text": [
      "ola\n",
      "Burro\n"
     ]
    }
   ],
   "source": [
    "print(\"ola\") \n",
    "print(\"Burro\")"
   ]
  },
  {
   "cell_type": "code",
   "execution_count": null,
   "metadata": {},
   "outputs": [],
   "source": [
    "print(\"---------------------------------olá Boa noite, seja bem vindo ao cinema de saquarema!!!!-----------------------------------------\")\n",
    "print(\"------------------Hoje temos varios filmes em cartaz, aproveite ao maximo e escolha com sabedoria, divirta-se---------------------\")\n",
    "print(\"\"\"                                                \n",
    "                        ######                    \n",
    "                      ##########                  \n",
    "        ######        ############                \n",
    "      ########        ############                \n",
    "      ########        ##########                  \n",
    "        ######          ########                  \n",
    "                                                  \n",
    "                                                  \n",
    "      ##########################                  \n",
    "    ##############################          ##    \n",
    "    ##############################        ######  \n",
    "    ##############################    ##########  \n",
    "    ##############################    ##########  \n",
    "    ##############################    ##########  \n",
    "    ##############################    ##########  \n",
    "    ##############################    ##########  \n",
    "    ##############################    ##########  \n",
    "    ##############################        ######  \n",
    "    ##############################          ##    \n",
    "      ##########################                  \n",
    "                                                  \n",
    "                                    \"\"\")\n",
    "\n",
    "idade = int(input(\"Qual a sua idade? \"))\n",
    "if idade >= 18:\n",
    "    print(\"seja bem vindo pode entrar!! \")\n",
    "else:\n",
    "    print(\"voce nao tem idade suficiente para ir ao cinema!! \")                \n",
    "    acompanhado = (input(\"voce esta acompanhado de um maior de idade? sim/não\"))\n",
    "    if acompanhado == 'sim': \n",
    "        print(\"bom filme\")\n",
    "    if acompanhado != 'não':\n",
    "        print(\"volte pra casa\")\n",
    "            "
   ]
  },
  {
   "cell_type": "code",
   "execution_count": null,
   "metadata": {},
   "outputs": [],
   "source": [
    "\n",
    "\n",
    "print(\"vc acordou cedo!!\")\n",
    "\n",
    "print(\"\"\"                 ####                    \n",
    "                          ####                    \n",
    "                          ####                    \n",
    "          ####            ####            ##      \n",
    "          ####                          ######    \n",
    "            ####      ############    ######      \n",
    "                  ##################    ##        \n",
    "                ######################            \n",
    "                ########################          \n",
    "              ##########################          \n",
    "              ############################        \n",
    "    ######    ############################  ######\n",
    "    ######    ############################  ######\n",
    "              ############################        \n",
    "              ############################        \n",
    "              ##########################          \n",
    "                ######################            \n",
    "                  ##################              \n",
    "            ####    ##############    ####        \n",
    "          ######                        ####      \n",
    "          ####                            ##      \n",
    "                          ####                    \n",
    "                          ####                    \n",
    "                          ####                    \n",
    "                                              \"\"\")\n",
    "print(\"tomou cafe e foi pra academia!!\")\n",
    "\n",
    "\n",
    "print(\"\"\"                                      /\\      /\n",
    "                                               ||______||\n",
    "                                               || ^  ^ ||\n",
    "                                               \\| |  | |/\n",
    "                                                |______|\n",
    "              __                                |  __  |\n",
    "             /  \\       ________________________|_/  \\_|__\n",
    "            / ^^ \\     /=========================/ ^^ \\===|\n",
    "           /  []  \\   /=========ACADEMIA========/  []  \\==|\n",
    "          /________\\ /=========================/________\\=|\n",
    "       *  |        |/==========================|        |=|\n",
    "      *** | ^^  ^^ |---------------------------| ^^  ^^ |--\n",
    "     *****| []  [] |           _____           | []  [] | |\n",
    "    *******        |          /_____\\          |      * | |\n",
    "   *********^^  ^^ |  ^^  ^^  |  |  |  ^^  ^^  |     ***| |\n",
    "  ***********]  [] |  []  []  |  |  |  []  []  | ===***** |\n",
    " *************     |         @|__|__|@         |/ |*******|\n",
    "***************   ***********--=====--**********| *********\n",
    "***************___*********** |=====| **********|***********\n",
    " *************     ********* /=======\\ ******** | *********\"\"\")\n",
    "\n",
    "\n",
    "\n",
    "\n",
    "print(\"ao chegar lá voce tentou pegar 40kg no supino: Role os Dados para ver se vc consegui realizar o exercicio!!\")\n",
    "\n",
    "import random\n",
    "dado = random.randint (1,10)\n",
    "print(dado)\n",
    "if dado >=7:\n",
    "    print(\"voce conseguiu realizar o exercicio sem se lesionar!! \")\n",
    "else:\n",
    "    print(\"voce fez 2 repetições e na ultima vc falhou e ficou com a barra agarrada no pescoço!!\")\n",
    "    "
   ]
  },
  {
   "cell_type": "code",
   "execution_count": null,
   "metadata": {},
   "outputs": [],
   "source": [
    "#EXERCICIO 1 :\n",
    "#CRIE UM PROGRAMA QUE PEÇA AO USUARIO UM NUMERO E DIGA SE É IMPAR OU PAR\n",
    "\n"
   ]
  },
  {
   "cell_type": "code",
   "execution_count": 10,
   "metadata": {},
   "outputs": [
    {
     "name": "stdout",
     "output_type": "stream",
     "text": [
      "15\n",
      "Estranho\n",
      "Estranho\n"
     ]
    }
   ],
   "source": [
    "#EXERCICIO :\n",
    "#DADO UM INTEIRO, REALIZE AS SEGUINTES AÇÕES CONDICIONAIS:\n",
    "#Se  for ímpar, imprima Estranho\n",
    "#Se  for par e estiver no intervalo inclusivo de 2 a 5, imprima Não Estranho\n",
    "#Se  for par e estiver no intervalo inclusivo de 6 a 20, imprima Estranho\n",
    "#Se  for par e maior que 20, imprima Não Estranho\n",
    "\n",
    "import random\n",
    "dado = random.randint (1,25)\n",
    "print(dado)\n",
    "if dado >=2 and dado <=5:\n",
    "    print(\"não estranho\")\n",
    "if dado >=6  <=20:\n",
    "    print(\"Estranho\")    \n",
    "if dado % 2 != 0:\n",
    "    print(\"Estranho\")\n",
    "elif dado % 2 == 0:\n",
    "    if dado > 20:\n",
    "        print(\"Não Estranho\")\n",
    "\n"
   ]
  },
  {
   "cell_type": "code",
   "execution_count": 30,
   "metadata": {},
   "outputs": [
    {
     "name": "stdout",
     "output_type": "stream",
     "text": [
      "senhor dos anéis\n",
      "assisti ontem o filme  matrix\n",
      "['senhor dos anéis', 'lagoa Azul', 'matrix', 'interestelar', 'star wars', 'senhor dos anéis', 'Poderoso chefão']\n"
     ]
    },
    {
     "name": "stdout",
     "output_type": "stream",
     "text": [
      "você tem muito mal gosto\n"
     ]
    }
   ],
   "source": [
    "filmes = [\"senhor dos anéis\", \"lagoa Azul\", \"matrix\", \"interestelar\"]\n",
    "#0,1,2,3\n",
    "print(filmes[0])\n",
    "print(\"assisti ontem o filme \", filmes[2])\n",
    "\n",
    "filmes.append(\"star wars\")\n",
    "filmes.append(\"senhor dos anéis\")\n",
    "filmes.append(\"Poderoso chefão\")\n",
    "print(filmes)\n",
    "filmes = input(\"qual o melhor filme dentre os listados abaixo? \")\n",
    "filme0 = \"senhor dos anéis\"\n",
    "if filmes == \"senhor dos anéis\":\n",
    "    print(\"muito bom\")    \n",
    "else:\n",
    "    print(\"você tem muito mal gosto\")"
   ]
  },
  {
   "cell_type": "code",
   "execution_count": 32,
   "metadata": {},
   "outputs": [
    {
     "name": "stdout",
     "output_type": "stream",
     "text": [
      "['11', '13', ['120', '200', '300']]\n"
     ]
    }
   ],
   "source": [
    "trimestre = [\"120\", \"200\", \"300\"]\n",
    "trimestre_2 = [\"11\", \"13\"]\n",
    "trimestre_2.append(trimestre)\n",
    "print(trimestre_2)"
   ]
  },
  {
   "cell_type": "code",
   "execution_count": 19,
   "metadata": {},
   "outputs": [
    {
     "name": "stdout",
     "output_type": "stream",
     "text": [
      "Muito boa noite, bem vindo ao atendimento online do nosso cinema\n",
      "O valor do ingresso seria de: R$90.00\n"
     ]
    }
   ],
   "source": [
    "final_de_semana = ['sabado', 'domingo']\n",
    "dias_uteis = ['segunda', 'terça', 'quarta', 'quinta', 'sexta']\n",
    "ingresso = 15\n",
    "ingresso2 = ingresso + (ingresso * 0.3)\n",
    "\n",
    "print('Muito boa noite, bem vindo ao atendimento online do nosso cinema')\n",
    "quantia = float(input('Quantos ingressos gostaria de comprar'))\n",
    "dia = input('Gostaria de comprar seu ingresso para qual dia da semana?')\n",
    "\n",
    "if dia in final_de_semana:\n",
    "    total = quantia * ingresso2\n",
    "    print(f'O valor do ingresso seria de: R${total :.2f}')\n",
    "elif dia in dias_uteis:\n",
    "    total = quantia * ingresso\n",
    "    print(f'O valor do ingresso seria de: R${total :.2f}')"
   ]
  },
  {
   "cell_type": "code",
   "execution_count": 9,
   "metadata": {},
   "outputs": [
    {
     "name": "stdout",
     "output_type": "stream",
     "text": [
      "lamento! \n"
     ]
    }
   ],
   "source": [
    "olá = (input('olá, bom dia como você está: '))\n",
    "if olá == 'bem':\n",
    "    print('Que Bom!!!' )\n",
    "else:\n",
    "    motivo = (input('por qual motivo: ')) \n",
    "    print('lamento! ')\n",
    "\n"
   ]
  },
  {
   "cell_type": "code",
   "execution_count": 20,
   "metadata": {},
   "outputs": [
    {
     "name": "stdout",
     "output_type": "stream",
     "text": [
      "3\n",
      "voce errou o golpe, e pedeu metade da vida! \n"
     ]
    }
   ],
   "source": [
    "import random\n",
    "dados = random.randint (1,10)\n",
    "print(dados)\n",
    "if dados >= 7:\n",
    "    print('voce acertou o golpe!! ')\n",
    "elif dados < 7:\n",
    "    print('voce errou o golpe, e pedeu metade da vida! ')    \n",
    "    "
   ]
  },
  {
   "cell_type": "code",
   "execution_count": 27,
   "metadata": {},
   "outputs": [
    {
     "name": "stdout",
     "output_type": "stream",
     "text": [
      "o valor do produto mais desconto é de 80.0\n"
     ]
    }
   ],
   "source": [
    "brinquedo = 100\n",
    "data = input(\"Hoje é uma data festiva: sim - não - blackfriday \")\n",
    "total_40 = brinquedo + (brinquedo * 0.40)\n",
    "total = 100\n",
    "total_desconto = brinquedo - (brinquedo * 0.20)\n",
    "if data == 'sim':\n",
    "    print(f'o valor do brinquedo é de {total_40:.2f}')\n",
    "elif data == 'não':\n",
    "    print(f'o valor do produto é de {total}')\n",
    "elif data == 'blackfriday':\n",
    "    print(f'o valor do produto mais desconto é de {total_desconto}')"
   ]
  },
  {
   "cell_type": "code",
   "execution_count": 9,
   "metadata": {},
   "outputs": [
    {
     "name": "stdout",
     "output_type": "stream",
     "text": [
      "olá bem vindo ao python burguer \n",
      " faça o seu pedido:\n"
     ]
    },
    {
     "name": "stdout",
     "output_type": "stream",
     "text": [
      "vamos escolher o acompanhamento\n",
      "o valor do pedido foi de 22.00\n"
     ]
    }
   ],
   "source": [
    "#hamburguers\n",
    "#hambureguer_normal: R$ 10\n",
    "#hamburguer_de_picanha: R$ 15\n",
    "#hamburguer_artesanal: R$ 20\n",
    "\n",
    "#adicionais\n",
    "#queijo: R$ 2\n",
    "#Bacon: 3\n",
    "#ovo: R$ 1\n",
    "#salada: R$ 3\n",
    "\n",
    "normal = 10\n",
    "picanha = 15\n",
    "artesanal = 20 \n",
    "\n",
    "total = 0\n",
    "print(\"olá bem vindo ao python burguer \\n faça o seu pedido:\")\n",
    "pedido = input(\"Digite o tipo de sandwiche que você deseja: \")\n",
    "\n",
    "if pedido == 'normal':\n",
    "    total = total + normal\n",
    "elif pedido == 'picanha':\n",
    "    total = total + picanha\n",
    "elif pedido == 'artesanal':\n",
    "    total = total + artesanal\n",
    "\n",
    "print(\"vamos escolher o acompanhamento\")\n",
    "\n",
    "queijo = 2\n",
    "bacon = 3\n",
    "ovo = 1\n",
    "salada = 3\n",
    "\n",
    "add_queijo = input(\"adicionar queijo: sim ou não\")\n",
    "if add_queijo == 'sim':\n",
    "    total = total + queijo\n",
    "add_bacon = input(\"adicionar bacon: sim ou não\")\n",
    "if add_bacon == 'sim':\n",
    "    total = total + bacon\n",
    "add_ovo = input(\"adicionar ovo: sim ou não\")\n",
    "if add_ovo == 'sim':\n",
    "    total = total + ovo\n",
    "add_salada = input(\"adicionar salada: sim ou não\")\n",
    "if add_salada == 'sim':\n",
    "    total = total + salada\n",
    "    \n",
    "print(f\"o valor do pedido foi de {total:.2f}\")\n"
   ]
  },
  {
   "cell_type": "code",
   "execution_count": 1,
   "metadata": {},
   "outputs": [
    {
     "name": "stdout",
     "output_type": "stream",
     "text": [
      "olá bem vindo ao nosso cinema \n",
      "o valor foi de 13.5\n"
     ]
    }
   ],
   "source": [
    "#final_de_semana = ['sábado', 'domingo']\n",
    "#ingresso = 15\n",
    "#final de semana com chuva terá acrescimento de 10%\n",
    "#final de semana sem chuva terá acréscimo de 50%\n",
    "#dia de semana com chuva terá desconto de 10%\n",
    "#dia de semana sem chuva terá preço normal\n",
    "\n",
    "\n",
    "final_de_semana = ['sábado', 'domingo']\n",
    "dia_de_semana = ['segunda', 'terça', 'quarta', 'quinta', 'sexta']\n",
    "ingresso = 15\n",
    "ingresso_2 = ingresso + (ingresso * 0.10)\n",
    "ingresso_3 = ingresso + (ingresso * 0.50)\n",
    "ingresso_4 = ingresso - (ingresso * 0.10)\n",
    "\n",
    "print(\"olá bem vindo ao nosso cinema \")\n",
    "dia = input(\"Diga qual dia é hoje: \")\n",
    "tempo = input(\"está chovendo sim ou não: \")\n",
    "\n",
    "if dia in final_de_semana and tempo == \"sim\":\n",
    "    preço = ingresso_2\n",
    "if dia in final_de_semana and tempo == \"não\":\n",
    "    preço = ingresso_3\n",
    "if dia in dia_de_semana and tempo == \"não\":\n",
    "    preço = 15\n",
    "if dia in dia_de_semana and tempo == \"sim\":\n",
    "    preço = ingresso_4\n",
    "print(f\"o valor foi de {preço}\")\n"
   ]
  },
  {
   "cell_type": "code",
   "execution_count": 4,
   "metadata": {},
   "outputs": [
    {
     "name": "stdout",
     "output_type": "stream",
     "text": [
      "19m em milimetros é 19000mm\n"
     ]
    }
   ],
   "source": [
    "#Escreva um programa que leia um valor em metros e o exiba convertido em milímetros.\n",
    "\n",
    "metros = float(input(\"Digite quanto metros deseja converter: \"))\n",
    "conversao = metros * 1000\n",
    "print(f\"{metros:.0f}m em milimetros é {conversao:.0f}mm\")"
   ]
  },
  {
   "cell_type": "code",
   "execution_count": 3,
   "metadata": {},
   "outputs": [
    {
     "name": "stdout",
     "output_type": "stream",
     "text": [
      "seu salario tera um aumento de 15.0%.\n",
      "o seu novo salario com esse aumento de 180.0 sera de 1380.0 \n"
     ]
    }
   ],
   "source": [
    "#Faça um programa que calcule o aumento de um salário. Ele deve solicitar o valor do salário e a \n",
    "#porcentagem do aumento. Exiba o valor do aumento e do novo salário.\n",
    "\n",
    "salario = float(input(\"Digite o valor do seu salario atual: \"))\n",
    "porcentagem = float(input(\"DIgite a porcentagem a ser aumentada: \"))\n",
    "aumento = salario * porcentagem / 100\n",
    "novo_salário = salario + aumento\n",
    "print(f\"seu salario tera um aumento de {porcentagem}%.\")\n",
    "print(f\"o seu novo salario com esse aumento de {aumento} sera de {novo_salário} \")"
   ]
  },
  {
   "cell_type": "code",
   "execution_count": 7,
   "metadata": {},
   "outputs": [
    {
     "name": "stdout",
     "output_type": "stream",
     "text": [
      "o tempo estimado para a sua viajem é de 22h\n"
     ]
    }
   ],
   "source": [
    "#Escreva um programa que calcule o tempo de uma viagem de carro. Pergunte a distância a percorrer e a \n",
    "#velocidade média esperada para a viagem.\n",
    "\n",
    "distancia = float(input(\"Digite a distância a ser percorrida em km: \"))\n",
    "velocidade = float(input(\"Digite a velocidade média que você irá andar em km/h: \"))\n",
    "tempo = distancia / velocidade\n",
    "print(f\"o tempo estimado para a sua viajem é de {tempo:.0f}h\")"
   ]
  },
  {
   "cell_type": "code",
   "execution_count": null,
   "metadata": {},
   "outputs": [],
   "source": [
    "#Escreva um programa que pergunte a velocidade do carro de um usuário. Caso ultrapasse 80 km/h, exiba \n",
    "#uma mensagem dizendo que o usuário foi multado. Nesse caso, exiba o valor da multa, cobrando R$ 5 por \n",
    "#km acima de 80 km/h.\n"
   ]
  }
 ],
 "metadata": {
  "kernelspec": {
   "display_name": "Python 3",
   "language": "python",
   "name": "python3"
  },
  "language_info": {
   "codemirror_mode": {
    "name": "ipython",
    "version": 3
   },
   "file_extension": ".py",
   "mimetype": "text/x-python",
   "name": "python",
   "nbconvert_exporter": "python",
   "pygments_lexer": "ipython3",
   "version": "3.11.7"
  }
 },
 "nbformat": 4,
 "nbformat_minor": 2
}
