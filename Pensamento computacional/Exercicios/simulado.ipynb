{
 "cells": [
  {
   "cell_type": "code",
   "execution_count": 3,
   "metadata": {},
   "outputs": [
    {
     "name": "stdout",
     "output_type": "stream",
     "text": [
      "ciade maravilhosa, sempre quis conhcer saquarema\n"
     ]
    }
   ],
   "source": [
    "cidade = input('De que cidade você é ? ')\n",
    "print(f\"ciade maravilhosa, sempre quis conhcer {cidade}\")"
   ]
  },
  {
   "cell_type": "code",
   "execution_count": 4,
   "metadata": {},
   "outputs": [
    {
     "name": "stdout",
     "output_type": "stream",
     "text": [
      "o bônus foi de 2970.0\n"
     ]
    }
   ],
   "source": [
    "\n",
    "vendas = float(input(\"digite a quantidade de vendas que você obteve: \"))\n",
    "salario = 2700\n",
    "if vendas > 300:\n",
    "    total = salario + (salario * 0.15)\n",
    "elif vendas >= 100 and vendas <= 300:\n",
    "    total = salario + (salario * 0.1)\n",
    "else:\n",
    "    print(salario)\n",
    "    \n",
    "print(f\"o bônus foi de {total:.1f}\")     "
   ]
  },
  {
   "cell_type": "code",
   "execution_count": 3,
   "metadata": {},
   "outputs": [
    {
     "name": "stdout",
     "output_type": "stream",
     "text": [
      "voce esta na prova final: \n",
      "reprovado você é muito burro, conseguiu reprovar 3 vezes!!!! \n"
     ]
    }
   ],
   "source": [
    "p1 = float(input(\"Digite a notada p1: \"))\n",
    "p2 = float(input(\"Digite a notada p2: \"))\n",
    "media = (p1 + p2) /2\n",
    "if media < 7:\n",
    "    print(\"voce esta na prova final: \")\n",
    "    p3 = float(input(\"Digite a nota da p3: \"))\n",
    "p3_media = p3\n",
    "if media >= 7:\n",
    "    print(\"aprovado\")\n",
    "\n",
    "if p3_media >= 6:\n",
    "    print(\"aprovado\")\n",
    "elif p3_media < 6:\n",
    "    print(\"reprovado você é muito burro, conseguiu reprovar 3 vezes!!!! \")"
   ]
  },
  {
   "cell_type": "code",
   "execution_count": 1,
   "metadata": {},
   "outputs": [
    {
     "name": "stdout",
     "output_type": "stream",
     "text": [
      "o ciclano é do tipo: str\n",
      "o 5 é do tipo: int\n",
      "o True é do tipo: bool\n",
      "o 22.0 é do tipo: float\n",
      "o 12 é do tipo: int\n"
     ]
    }
   ],
   "source": [
    "a = 'ciclano'\n",
    "print(f\"o {a} é do tipo: {type(a). __name__}\")\n",
    "\n",
    "b = 5\n",
    "print(f\"o {b} é do tipo: {type(b). __name__}\")\n",
    "\n",
    "c = True\n",
    "print(f\"o {c} é do tipo: {type(c). __name__}\")\n",
    "\n",
    "d = 22.0\n",
    "print(f\"o {d} é do tipo: {type(d). __name__}\")\n",
    "\n",
    "e = 12\n",
    "print(f\"o {e} é do tipo: {type(e). __name__}\")\n",
    "\n"
   ]
  },
  {
   "cell_type": "code",
   "execution_count": null,
   "metadata": {},
   "outputs": [
    {
     "ename": "",
     "evalue": "",
     "output_type": "error",
     "traceback": [
      "\u001b[1;31mFailed to start the Kernel. \n",
      "\u001b[1;31mUnable to start Kernel '.venv (Python 3.11.9)' due to a connection timeout. \n",
      "\u001b[1;31mView Jupyter <a href='command:jupyter.viewOutput'>log</a> for further details."
     ]
    }
   ],
   "source": [
    "#Lançado uma série japonesa em animação , em que os personagens de diferentes etinias lutam\n",
    "#com armaduras referente a diferentes constelações lutam para proteger uma deusa grega da\n",
    "#guerra.\n",
    "#Chegam novos brinquedos da série animada e o lojista resolve aplicar um aumento de 20% nos\n",
    "#bonecos da série que custam 120 reais.\n",
    "#Crie um programa que realize forneça o valor com o aumento.\n",
    "\n",
    "\n",
    "\n",
    "produto = float(input(\"Digite o valor do produto: \"))\n",
    "aumento = produto + (produto * 0.20)\n",
    "\n",
    "print(f\"O valor do produto mais 20% foi de {aumento:.2f} \")"
   ]
  },
  {
   "cell_type": "code",
   "execution_count": null,
   "metadata": {},
   "outputs": [
    {
     "ename": "",
     "evalue": "",
     "output_type": "error",
     "traceback": [
      "\u001b[1;31mFailed to start the Kernel. \n",
      "\u001b[1;31mUnable to start Kernel '.venv (Python 3.11.9)' due to a connection timeout. \n",
      "\u001b[1;31mView Jupyter <a href='command:jupyter.viewOutput'>log</a> for further details."
     ]
    }
   ],
   "source": [
    "valor_a = '15'\n",
    "valor_b = 32.0\n",
    "valor_c = 100\n",
    "\n",
    "soma = int(valor_a) + int(valor_b) + int(valor_c)\n",
    "print(soma)"
   ]
  },
  {
   "cell_type": "code",
   "execution_count": null,
   "metadata": {},
   "outputs": [
    {
     "ename": "",
     "evalue": "",
     "output_type": "error",
     "traceback": [
      "\u001b[1;31mFailed to start the Kernel. \n",
      "\u001b[1;31mUnable to start Kernel '.venv (Python 3.11.9)' due to a connection timeout. \n",
      "\u001b[1;31mView Jupyter <a href='command:jupyter.viewOutput'>log</a> for further details."
     ]
    }
   ],
   "source": [
    "\n",
    "\n",
    "numero = float(input(\"Digite um numero: \"))\n",
    "\n",
    "if numero %3 == 0 and numero %5 == 0:\n",
    "    print(\"FizzBuzz\")\n",
    "\n",
    "elif numero %3 == 0:\n",
    "    print(\"Fizz\")\n",
    "\n",
    "elif numero %5 == 0:\n",
    "    print(\"Buzz\")\n",
    "    \n",
    "else:\n",
    "  print(\"nada\")\n",
    " "
   ]
  }
 ],
 "metadata": {
  "kernelspec": {
   "display_name": "Python 3",
   "language": "python",
   "name": "python3"
  },
  "language_info": {
   "codemirror_mode": {
    "name": "ipython",
    "version": 3
   },
   "file_extension": ".py",
   "mimetype": "text/x-python",
   "name": "python",
   "nbconvert_exporter": "python",
   "pygments_lexer": "ipython3",
   "version": "3.11.9"
  }
 },
 "nbformat": 4,
 "nbformat_minor": 2
}
