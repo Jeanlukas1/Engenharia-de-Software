{
 "cells": [
  {
   "cell_type": "code",
   "execution_count": null,
   "metadata": {},
   "outputs": [],
   "source": [
    "#imprima de 1 a 10 usando for\n",
    "for numero in range(1, 11):\n",
    "  print(numero)"
   ]
  },
  {
   "cell_type": "code",
   "execution_count": null,
   "metadata": {},
   "outputs": [],
   "source": [
    "#imprima de 1 a 10 usando while\n",
    "numero = 1\n",
    "while numero <= 10:\n",
    "  print(numero)\n",
    "  numero += 1"
   ]
  },
  {
   "cell_type": "code",
   "execution_count": null,
   "metadata": {},
   "outputs": [],
   "source": [
    "#quadrinhos = ['Paciência', 'Invencível', 'Umbrella Academy', 'Born again',\n",
    "#'Watchmen']\n",
    "#Dado a lista acima.\n",
    "#a) Adicione o quadrinho 'Black Hammer' e imprima a nova lista # exatamente assim:\n",
    "#Quadrinhos: Paciência, Black Hammer, Invencível, Umbrella Academy, Born again,\n",
    "#Watchmen\n",
    "\n",
    "quadrinhos = ['Paciência', 'Invencível', 'Umbrella Academy', 'Born again', 'Watchmen']\n",
    "\n",
    "quadrinhos.insert(1, \"Black Hammer\")  \n",
    "\n",
    "print(\"Quadrinhos:\", end=\" \") \n",
    "for quadrinho in quadrinhos:\n",
    "  print(quadrinho, end=\", \") \n",
    "print(\"\\b\\n\")  \n"
   ]
  },
  {
   "cell_type": "code",
   "execution_count": null,
   "metadata": {},
   "outputs": [],
   "source": [
    "#b)Remova a história em quadrinhos 'Paciência' e imprima novamente a lista\n",
    "\n",
    "quadrinhos.remove(\"Paciência\")  \n",
    "\n",
    "print(\"Quadrinhos:\", end=\" \")\n",
    "for quadrinho in quadrinhos:\n",
    "  print(quadrinho, end=\", \")\n",
    "print(\"\\b\\n\")\n"
   ]
  },
  {
   "cell_type": "code",
   "execution_count": null,
   "metadata": {},
   "outputs": [],
   "source": [
    "#Abaixo temos duas listas. Uma com os nomes da lista e os outros com\n",
    "#alunos = ['Alberto', 'Bento', 'Carlos', 'Denis', 'Evaldo', 'Fabiano']\n",
    "#notas = [10, 8, 6, 8, 2, 1]\n",
    "#Resultado esperado:\n",
    "#Alberto: 10\n",
    "#Bento: 8\n",
    "#Carlos: 6\n",
    "#Denis: 8\n",
    "#Evaldo: 2\n",
    "#Fabiano: \n",
    "\n",
    "alunos = ['Alberto', 'Bento', 'Carlos', 'Denis', 'Evaldo', 'Fabiano']\n",
    "notas = [10, 8, 6, 8, 2, 1]\n",
    "\n",
    "for i, aluno in enumerate(alunos): \n",
    "  print(f\"{aluno}: {notas[i]}\")  "
   ]
  },
  {
   "cell_type": "code",
   "execution_count": null,
   "metadata": {},
   "outputs": [],
   "source": [
    "#Dado as informações de notas abaixo.\n",
    "#notas = [0, 10, 10, 10, 9, 8, 5, 4, 2, 6, 6, 5, 4] \n",
    "#a) Informe quantos alunos estão reprovados.\n",
    "#b) Quantos alunos estão aprovados\n",
    "#c) Média geral da turma\n",
    "\n",
    "notas = [0, 10, 10, 10, 9, 8, 5, 4, 2, 6, 6, 5, 4]\n",
    "\n",
    "def aprovado(nota):\n",
    "  return nota >= 7\n",
    "\n",
    "reprovados = sum(not aprovado(nota) for nota in notas)\n",
    "aprovados = len(notas) - reprovados\n",
    "\n",
    "media = sum(notas) / len(notas)\n",
    "\n",
    "print(f\"Alunos reprovados: {reprovados}\")\n",
    "print(f\"Alunos aprovados: {aprovados}\")\n",
    "print(f\"Média geral: {media:.2f}\")"
   ]
  },
  {
   "cell_type": "code",
   "execution_count": null,
   "metadata": {},
   "outputs": [],
   "source": [
    "#Crie um programa com while em que se o usuário não inserir a senha correta, será solicitado\n",
    "#novamente a senha, até que o usuário acerte a senha\n",
    "#senha = 'admin123'\n",
    "\n",
    "senha_correta = 'admin123'\n",
    "\n",
    "while True:\n",
    "  senha_digitada = input(\"Digite a senha: \")\n",
    "\n",
    "  if senha_digitada == senha_correta:\n",
    "    print(\"Senha correta! Acesso liberado.\")\n",
    "    break\n",
    "  else:\n",
    "    print(\"Senha incorreta. Tente novamente.\")\n"
   ]
  },
  {
   "cell_type": "code",
   "execution_count": null,
   "metadata": {},
   "outputs": [],
   "source": [
    "#Crie uma função (def) em python que calcule e imprima a média de duas notas\n",
    "\n",
    "def calcular_media(nota1, nota2):\n",
    "\n",
    "  media = (nota1 + nota2) / 2\n",
    "  print(f\"A média das notas é: {media:.2f}\")\n",
    "\n",
    "\n",
    "nota1 = float(input(\"Digite a primeira nota: \"))\n",
    "nota2 = float(input(\"Digite a segunda nota: \"))\n",
    "\n",
    "calcular_media(nota1, nota2)\n",
    "\n",
    "def calcular_media(nota1, nota2):\n",
    "  media = (nota1 + nota2) / 2\n",
    "  return media\n",
    "\n",
    "nota1 = float(input(\"Digite a primeira nota: \"))\n",
    "nota2 = float(input(\"Digite a segunda nota: \"))\n",
    "\n",
    "media = calcular_media(nota1, nota2)\n",
    "print(f\"A média armazenada é: {media:.2f}\")\n"
   ]
  },
  {
   "cell_type": "code",
   "execution_count": 1,
   "metadata": {},
   "outputs": [
    {
     "name": "stdout",
     "output_type": "stream",
     "text": [
      "Senha: U1)\n"
     ]
    }
   ],
   "source": [
    "#Escreva um programa em Python que gere uma senha aleatória com as seguintes\n",
    "#especificações:\n",
    "#1. A senha deve conter dígitos numéricos (0-9), letras (maiúsculas e minúsculas) e\n",
    "#caracteres especiais (por exemplo: !@#$%).\n",
    "#2. A quantidade de cada tipo de caractere (dígitos, letras e caracteres especiais) deve ser\n",
    "#aleatória, mas a senha deve ter pelo menos um de cada tipo.\n",
    "#3. O usuário deve informar apenas o comprimento desejado para a senha.\n",
    "#4. A senha gerada deve ser completamente aleatória, respeitando os requisitos acima.\n",
    "#Por exemplo, se o usuário solicitar uma senha de 10 caracteres, o programa pode gerar:\n",
    "#Senha: r5#Tz9@Kx9\n",
    "#Se o usuário solicitar uma senha de 3 caracteres, o programa pode gerar:\n",
    "#Senha: 2y#\n",
    "\n",
    "import random\n",
    "import string\n",
    "\n",
    "def gerar_senha_aleatoria(tamanho):\n",
    "\n",
    "  caracteres_possiveis = string.ascii_letters + string.digits + string.punctuation\n",
    "\n",
    "  senha = \"\"\n",
    "  for tipo in (string.ascii_letters, string.digits, string.punctuation):\n",
    "    senha += random.choice(tipo)\n",
    "\n",
    "  for _ in range(tamanho - len(senha)):\n",
    "    senha += random.choice(caracteres_possiveis)\n",
    "\n",
    "  senha_embaralhada = \"\".join(random.sample(senha, len(senha)))\n",
    "\n",
    "  return senha_embaralhada\n",
    "\n",
    "tamanho_senha = int(input(\"Digite o tamanho desejado para a senha: \"))\n",
    "\n",
    "senha_gerada = gerar_senha_aleatoria(tamanho_senha)\n",
    "print(f\"Senha: {senha_gerada}\")\n"
   ]
  }
 ],
 "metadata": {
  "kernelspec": {
   "display_name": "base",
   "language": "python",
   "name": "python3"
  },
  "language_info": {
   "codemirror_mode": {
    "name": "ipython",
    "version": 3
   },
   "file_extension": ".py",
   "mimetype": "text/x-python",
   "name": "python",
   "nbconvert_exporter": "python",
   "pygments_lexer": "ipython3",
   "version": "3.11.7"
  }
 },
 "nbformat": 4,
 "nbformat_minor": 2
}
