{
 "cells": [
  {
   "cell_type": "code",
   "execution_count": 7,
   "metadata": {},
   "outputs": [
    {
     "name": "stdout",
     "output_type": "stream",
     "text": [
      "1\n",
      "2\n",
      "3\n",
      "4\n",
      "5\n",
      "6\n",
      "7\n",
      "8\n",
      "9\n",
      "10\n"
     ]
    }
   ],
   "source": [
    "for numero in range(1,11):\n",
    "    print(numero)\n",
    "    if numero == 3:\n",
    "     continue\n"
   ]
  },
  {
   "cell_type": "code",
   "execution_count": 31,
   "metadata": {},
   "outputs": [
    {
     "name": "stdout",
     "output_type": "stream",
     "text": [
      "1\n",
      "2\n",
      "3\n",
      "4\n",
      "5\n",
      "6\n",
      "7\n",
      "8\n",
      "9\n",
      "10\n"
     ]
    }
   ],
   "source": [
    "numero = 1\n",
    "while numero <= 10:\n",
    "  print(numero)\n",
    "  numero += 1"
   ]
  },
  {
   "cell_type": "code",
   "execution_count": 51,
   "metadata": {},
   "outputs": [
    {
     "name": "stdout",
     "output_type": "stream",
     "text": [
      "Quadrinhos:  Paciência, Black Hammer, Invencível, Umbrella Academy, Born again, Watchmen, "
     ]
    }
   ],
   "source": [
    "#quadrinhos = ['Paciência', 'Invencível', 'Umbrella Academy', 'Born again',\n",
    "#'Watchmen']\n",
    "#Dado a lista acima.\n",
    "#a) Adicione o quadrinho 'Black Hammer' e imprima a nova lista # exatamente assim:\n",
    "#Quadrinhos: Paciência, Black Hammer, Invencível, Umbrella Academy, Born again,\n",
    "#Watchmen\n",
    "\n",
    "quadrinhos = ['Paciência', 'Invencível', 'Umbrella Academy', 'Born again', 'Watchmen']\n",
    "\n",
    "quadrinhos.insert(1, 'Black Hammer')\n",
    "\n",
    "print(\"Quadrinhos: \", end=\" \" )\n",
    "for quadrinho in quadrinhos:\n",
    "   print(quadrinho, end=', ')\n"
   ]
  },
  {
   "cell_type": "code",
   "execution_count": 52,
   "metadata": {},
   "outputs": [
    {
     "name": "stdout",
     "output_type": "stream",
     "text": [
      "Quadrinhos:  Invencível, Umbrella Academy, Born again, Watchmen, "
     ]
    }
   ],
   "source": [
    "#b)Remova a história em quadrinhos 'Paciência' e imprima novamente a lista\n",
    "\n",
    "\n",
    "quadrinhos = ['Paciência', 'Invencível', 'Umbrella Academy', 'Born again', 'Watchmen']\n",
    "\n",
    "quadrinhos.remove('Paciência')\n",
    "\n",
    "print('Quadrinhos: ', end=' ')\n",
    "for quadrinho in quadrinhos:\n",
    "    print(quadrinho, end=', ') "
   ]
  },
  {
   "cell_type": "code",
   "execution_count": 53,
   "metadata": {},
   "outputs": [
    {
     "data": {
      "text/html": [
       "<div>\n",
       "<style scoped>\n",
       "    .dataframe tbody tr th:only-of-type {\n",
       "        vertical-align: middle;\n",
       "    }\n",
       "\n",
       "    .dataframe tbody tr th {\n",
       "        vertical-align: top;\n",
       "    }\n",
       "\n",
       "    .dataframe thead th {\n",
       "        text-align: right;\n",
       "    }\n",
       "</style>\n",
       "<table border=\"1\" class=\"dataframe\">\n",
       "  <thead>\n",
       "    <tr style=\"text-align: right;\">\n",
       "      <th></th>\n",
       "      <th>alunos</th>\n",
       "      <th>notas</th>\n",
       "    </tr>\n",
       "  </thead>\n",
       "  <tbody>\n",
       "    <tr>\n",
       "      <th>0</th>\n",
       "      <td>Alberto</td>\n",
       "      <td>10</td>\n",
       "    </tr>\n",
       "    <tr>\n",
       "      <th>1</th>\n",
       "      <td>Bento</td>\n",
       "      <td>8</td>\n",
       "    </tr>\n",
       "    <tr>\n",
       "      <th>2</th>\n",
       "      <td>Carlos</td>\n",
       "      <td>6</td>\n",
       "    </tr>\n",
       "    <tr>\n",
       "      <th>3</th>\n",
       "      <td>Denis</td>\n",
       "      <td>8</td>\n",
       "    </tr>\n",
       "    <tr>\n",
       "      <th>4</th>\n",
       "      <td>Evaldo</td>\n",
       "      <td>2</td>\n",
       "    </tr>\n",
       "    <tr>\n",
       "      <th>5</th>\n",
       "      <td>Fabiano</td>\n",
       "      <td>1</td>\n",
       "    </tr>\n",
       "  </tbody>\n",
       "</table>\n",
       "</div>"
      ],
      "text/plain": [
       "    alunos notas\n",
       "0  Alberto    10\n",
       "1    Bento     8\n",
       "2   Carlos     6\n",
       "3    Denis     8\n",
       "4   Evaldo     2\n",
       "5  Fabiano     1"
      ]
     },
     "execution_count": 53,
     "metadata": {},
     "output_type": "execute_result"
    }
   ],
   "source": [
    "#Abaixo temos duas listas. Uma com os nomes da lista e os outros com\n",
    "#alunos = ['Alberto', 'Bento', 'Carlos', 'Denis', 'Evaldo', 'Fabiano']\n",
    "#notas = [10, 8, 6, 8, 2, 1]\n",
    "#Resultado esperado:\n",
    "#Alberto: 10\n",
    "#Bento: 8\n",
    "#Carlos: 6\n",
    "#Denis: 8\n",
    "#Evaldo: 2\n",
    "#Fabiano: \n",
    "\n",
    "import pandas as pd\n",
    "\n",
    "df = pd.DataFrame(\n",
    "    {\n",
    "\n",
    "    \"alunos\" : ['Alberto', 'Bento', 'Carlos', 'Denis', 'Evaldo', 'Fabiano'],\n",
    "    \"notas\" : ['10', '8', '6', '8', '2', '1']\n",
    "    \n",
    "    }\n",
    ")"
   ]
  },
  {
   "cell_type": "code",
   "execution_count": 2,
   "metadata": {},
   "outputs": [
    {
     "name": "stdout",
     "output_type": "stream",
     "text": [
      "Reprovados: 8\n",
      "Aprovados: 5\n",
      "Media: 6.1\n"
     ]
    }
   ],
   "source": [
    "#Dado as informações de notas abaixo.\n",
    "#notas = [0, 10, 10, 10, 9, 8, 5, 4, 2, 6, 6, 5, 4] \n",
    "#a) Informe quantos alunos estão reprovados.\n",
    "#b) Quantos alunos estão aprovados\n",
    "#c) Média geral da turma\n",
    "\n",
    "import pandas as pd\n",
    "\n",
    "notas = [0, 10, 10, 10, 9, 8, 5, 4, 2, 6, 6, 5, 4]\n",
    "\n",
    "def aprovado(nota):\n",
    "    return nota >=7\n",
    "\n",
    "reprovados = sum(not aprovado(nota) for nota in notas)\n",
    "aprovados = len(notas) - reprovados \n",
    "\n",
    "media = sum(notas) /len(notas)\n",
    "\n",
    "print(f'Reprovados: {reprovados}')\n",
    "print(f'Aprovados: {aprovados}')\n",
    "print(f'Media: {media:.1f}')"
   ]
  },
  {
   "cell_type": "code",
   "execution_count": null,
   "metadata": {},
   "outputs": [],
   "source": [
    "import random\n",
    "import string\n",
    "\n",
    "letras = string.ascii_letters\n",
    "numeros = string.digits\n",
    "caracteres = "
   ]
  }
 ],
 "metadata": {
  "kernelspec": {
   "display_name": "base",
   "language": "python",
   "name": "python3"
  },
  "language_info": {
   "codemirror_mode": {
    "name": "ipython",
    "version": 3
   },
   "file_extension": ".py",
   "mimetype": "text/x-python",
   "name": "python",
   "nbconvert_exporter": "python",
   "pygments_lexer": "ipython3",
   "version": "3.11.7"
  }
 },
 "nbformat": 4,
 "nbformat_minor": 2
}
